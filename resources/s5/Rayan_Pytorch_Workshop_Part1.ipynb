{
  "nbformat": 4,
  "nbformat_minor": 0,
  "metadata": {
    "colab": {
      "provenance": []
    },
    "kernelspec": {
      "name": "python3",
      "display_name": "Python 3"
    },
    "language_info": {
      "name": "python"
    }
  },
  "cells": [
    {
      "cell_type": "markdown",
      "source": [
        "# **Rayan International AI Contest**\n",
        "\n",
        "<font color='white' style='font-family: \"Times New Roman\", Times, serif; font-size: 24px;'><strong>Machine Learning & Deep Learning Course</strong></font>\n",
        "\n",
        "<font color='white' style='font-family: \"Times New Roman\", Times, serif; font-size: 20px;'><em>**Title**: Pytorch workshop || **Part**: 1</em></font>\n",
        "<br><br>\n",
        "<font color='white' size=1>Copyright 2019. Created by Jose Marcial Portilla.</font>"
      ],
      "metadata": {
        "id": "Jw5tjzy-w1Pu"
      }
    },
    {
      "cell_type": "markdown",
      "source": [
        " Perform standard imports"
      ],
      "metadata": {
        "id": "-2rlkGu000eJ"
      }
    },
    {
      "cell_type": "code",
      "execution_count": 2,
      "metadata": {
        "id": "XKSx9-uGwgoF"
      },
      "outputs": [],
      "source": [
        "import torch\n",
        "import numpy as np"
      ]
    },
    {
      "cell_type": "code",
      "source": [
        "torch.__version__"
      ],
      "metadata": {
        "colab": {
          "base_uri": "https://localhost:8080/",
          "height": 55
        },
        "id": "buwJq9C81HKP",
        "outputId": "f56930bb-72fe-40c9-9262-0841548de84e"
      },
      "execution_count": 3,
      "outputs": [
        {
          "output_type": "execute_result",
          "data": {
            "text/plain": [
              "'2.3.1+cu121'"
            ],
            "application/vnd.google.colaboratory.intrinsic+json": {
              "type": "string"
            }
          },
          "metadata": {},
          "execution_count": 3
        }
      ]
    },
    {
      "cell_type": "markdown",
      "source": [
        "# Tensor Basics\n",
        "\n",
        "A <a href='https://pytorch.org/docs/stable/tensors.html'><strong><tt>torch.Tensor</tt></strong></a> is a multi-dimensional matrix containing elements of a single data type.<br>\n",
        "Calculations between tensors can only happen if the tensors share the same dtype.<br>"
      ],
      "metadata": {
        "id": "BhPzWpdq1oQY"
      }
    },
    {
      "cell_type": "code",
      "source": [
        "x = torch.tensor([1, 2, 3, 4], dtype=torch.int)\n",
        "print(x)\n",
        "print(x.dtype)\n",
        "print(x.type())"
      ],
      "metadata": {
        "colab": {
          "base_uri": "https://localhost:8080/"
        },
        "id": "vozOKMzx10Tv",
        "outputId": "682a06ac-4d16-4446-cbf1-0be8d52d71e9"
      },
      "execution_count": 4,
      "outputs": [
        {
          "output_type": "stream",
          "name": "stdout",
          "text": [
            "tensor([1, 2, 3, 4], dtype=torch.int32)\n",
            "torch.int32\n",
            "torch.IntTensor\n"
          ]
        }
      ]
    },
    {
      "cell_type": "code",
      "source": [
        "x = torch.Tensor([1, 2, 3, 4])\n",
        "print(x)\n",
        "print(x.dtype)\n",
        "print(x.type())"
      ],
      "metadata": {
        "id": "F-Ww-SfgeVxO",
        "outputId": "dee15173-b82b-4012-94bb-15c6c8e3c8e8",
        "colab": {
          "base_uri": "https://localhost:8080/"
        }
      },
      "execution_count": 5,
      "outputs": [
        {
          "output_type": "stream",
          "name": "stdout",
          "text": [
            "tensor([1., 2., 3., 4.])\n",
            "torch.float32\n",
            "torch.FloatTensor\n"
          ]
        }
      ]
    },
    {
      "cell_type": "markdown",
      "source": [
        "<h2><a href='https://pytorch.org/docs/stable/tensors.html'>Tensor Datatypes</a></h2>\n",
        "<table style=\"display: inline-block\">\n",
        "<tr><th>TYPE</th><th>NAME</th><th>EQUIVALENT</th><th>TENSOR TYPE</th></tr>\n",
        "<tr><td>32-bit integer (signed)</td><td>torch.int32</td><td>torch.int</td><td>IntTensor</td></tr>\n",
        "<tr><td>64-bit integer (signed)</td><td>torch.int64</td><td>torch.long</td><td>LongTensor</td></tr>\n",
        "<tr><td>16-bit integer (signed)</td><td>torch.int16</td><td>torch.short</td><td>ShortTensor</td></tr>\n",
        "<tr><td>32-bit floating point</td><td>torch.float32</td><td>torch.float</td><td>FloatTensor</td></tr>\n",
        "<tr><td>64-bit floating point</td><td>torch.float64</td><td>torch.double</td><td>DoubleTensor</td></tr>\n",
        "<tr><td>16-bit floating point</td><td>torch.float16</td><td>torch.half</td><td>HalfTensor</td></tr>\n",
        "<tr><td>8-bit integer (signed)</td><td>torch.int8</td><td></td><td>CharTensor</td></tr>\n",
        "<tr><td>8-bit integer (unsigned)</td><td>torch.uint8</td><td></td><td>ByteTensor</td></tr></table>"
      ],
      "metadata": {
        "id": "8ZSZmvxQe1_i"
      }
    },
    {
      "cell_type": "code",
      "source": [
        "x = torch.tensor([1, -2, 3, 4], dtype=torch.uint16)\n",
        "print(x)\n",
        "print(x.dtype)\n",
        "print(x.type())"
      ],
      "metadata": {
        "id": "v4Mb6myhe1Sl",
        "outputId": "3384d825-fec0-4e00-877c-73dc1df0bc71",
        "colab": {
          "base_uri": "https://localhost:8080/"
        }
      },
      "execution_count": null,
      "outputs": [
        {
          "output_type": "stream",
          "name": "stdout",
          "text": [
            "tensor([    1, 65534,     3,     4], dtype=torch.uint16)\n",
            "torch.uint16\n",
            "torch.UInt16Tensor\n"
          ]
        }
      ]
    },
    {
      "cell_type": "markdown",
      "source": [
        "### Initialized tensors with <tt>.zeros()</tt> and <tt>.ones()</tt>\n",
        "<a href='https://pytorch.org/docs/stable/torch.html#torch.zeros'><strong><tt>torch.zeros(size)</tt></strong></a><br>\n",
        "<a href='https://pytorch.org/docs/stable/torch.html#torch.ones'><strong><tt>torch.ones(size)</tt></strong></a><br>\n",
        "It's a good idea to pass in the intended dtype."
      ],
      "metadata": {
        "id": "lJhp9bDWgxE-"
      }
    },
    {
      "cell_type": "markdown",
      "source": [
        "### Tensors from ranges\n",
        "<a href='https://pytorch.org/docs/stable/torch.html#torch.arange'><strong><tt>torch.arange(start,end,step)</tt></strong></a><br>\n",
        "<a href='https://pytorch.org/docs/stable/torch.html#torch.linspace'><strong><tt>torch.linspace(start,end,steps)</tt></strong></a><br>\n",
        "Note that with <tt>.arange()</tt>, <tt>end</tt> is exclusive, while with <tt>linspace()</tt>, <tt>end</tt> is inclusive."
      ],
      "metadata": {
        "id": "KCayAmDKg4e8"
      }
    },
    {
      "cell_type": "markdown",
      "source": [
        "### Random number tensors\n",
        "<a href='https://pytorch.org/docs/stable/torch.html#torch.rand'><strong><tt>torch.rand(size)</tt></strong></a> returns random samples from a uniform distribution over [0, 1)<br>\n",
        "<a href='https://pytorch.org/docs/stable/torch.html#torch.randn'><strong><tt>torch.randn(size)</tt></strong></a> returns samples from the \"standard normal\" distribution [σ = 1]<br>\n",
        "&nbsp;&nbsp;&nbsp;&nbsp;Unlike <tt>rand</tt> which is uniform, values closer to zero are more likely to appear.<br>\n",
        "<a href='https://pytorch.org/docs/stable/torch.html#torch.randint'><strong><tt>torch.randint(low,high,size)</tt></strong></a> returns random integers from low (inclusive) to high (exclusive)"
      ],
      "metadata": {
        "id": "wi9KYytZhGYi"
      }
    },
    {
      "cell_type": "markdown",
      "source": [
        "### Random number tensors that follow the input size\n",
        "<a href='https://pytorch.org/docs/stable/torch.html#torch.rand_like'><strong><tt>torch.rand_like(input)</tt></strong></a><br>\n",
        "<a href='https://pytorch.org/docs/stable/torch.html#torch.randn_like'><strong><tt>torch.randn_like(input)</tt></strong></a><br>\n",
        "<a href='https://pytorch.org/docs/stable/torch.html#torch.randint_like'><strong><tt>torch.randint_like(input,low,high)</tt></strong></a><br> these return random number tensors with the same size as <tt>input</tt>"
      ],
      "metadata": {
        "id": "OEYa0Uo3hXiJ"
      }
    },
    {
      "cell_type": "markdown",
      "source": [
        "## Tensor attributes\n",
        "Besides <tt>dtype</tt>, we can look at other <a href='https://pytorch.org/docs/stable/tensor_attributes.html'>tensor attributes</a> like <tt>shape</tt>, <tt>device</tt> and <tt>layout</tt>"
      ],
      "metadata": {
        "id": "_txJW8Ri3C2z"
      }
    },
    {
      "cell_type": "code",
      "source": [
        "x.shape"
      ],
      "metadata": {
        "colab": {
          "base_uri": "https://localhost:8080/"
        },
        "id": "eS-S__qQ3DtT",
        "outputId": "e56c912b-0422-4997-a8e4-589afa268cd2"
      },
      "execution_count": null,
      "outputs": [
        {
          "output_type": "execute_result",
          "data": {
            "text/plain": [
              "torch.Size([4])"
            ]
          },
          "metadata": {},
          "execution_count": 9
        }
      ]
    },
    {
      "cell_type": "code",
      "source": [
        "x.size()"
      ],
      "metadata": {
        "colab": {
          "base_uri": "https://localhost:8080/"
        },
        "id": "qNDZt5oB3JzC",
        "outputId": "b68cbff3-878d-48a5-a290-b896ff21ed80"
      },
      "execution_count": null,
      "outputs": [
        {
          "output_type": "execute_result",
          "data": {
            "text/plain": [
              "torch.Size([4])"
            ]
          },
          "metadata": {},
          "execution_count": 6
        }
      ]
    },
    {
      "cell_type": "code",
      "source": [
        "x.device"
      ],
      "metadata": {
        "colab": {
          "base_uri": "https://localhost:8080/"
        },
        "id": "BtirYPmP3MgM",
        "outputId": "64d182ef-6232-48a7-dc9a-0e187bc1c37d"
      },
      "execution_count": null,
      "outputs": [
        {
          "output_type": "execute_result",
          "data": {
            "text/plain": [
              "device(type='cpu')"
            ]
          },
          "metadata": {},
          "execution_count": 10
        }
      ]
    },
    {
      "cell_type": "code",
      "source": [
        "x.requires_grad"
      ],
      "metadata": {
        "colab": {
          "base_uri": "https://localhost:8080/"
        },
        "id": "l8uOwxj3d7Gt",
        "outputId": "fab29419-2a14-431c-f819-0dc13b4ba89a"
      },
      "execution_count": null,
      "outputs": [
        {
          "output_type": "execute_result",
          "data": {
            "text/plain": [
              "False"
            ]
          },
          "metadata": {},
          "execution_count": 5
        }
      ]
    },
    {
      "cell_type": "markdown",
      "source": [
        "## Converting NumPy arrays to PyTorch tensors\n",
        "\n",
        "In some cases tensors are used as a replacement for NumPy to use the power of GPUs (more on this later)."
      ],
      "metadata": {
        "id": "pQgyiVb91Oyw"
      }
    },
    {
      "cell_type": "code",
      "source": [
        "c=[1,2,3,4,5]\n",
        "c"
      ],
      "metadata": {
        "colab": {
          "base_uri": "https://localhost:8080/"
        },
        "id": "CqQ9FjTqi6TH",
        "outputId": "da8267e8-1ddb-4aef-ca1a-6e554146dca5"
      },
      "execution_count": null,
      "outputs": [
        {
          "output_type": "execute_result",
          "data": {
            "text/plain": [
              "[1, 2, 3, 4, 5]"
            ]
          },
          "metadata": {},
          "execution_count": 16
        }
      ]
    },
    {
      "cell_type": "code",
      "source": [
        "arr = np.array([1,2,3,4,5])\n",
        "arr"
      ],
      "metadata": {
        "id": "N_NgBghJ1PNr",
        "colab": {
          "base_uri": "https://localhost:8080/"
        },
        "outputId": "2548b8eb-b1b6-452d-f25d-89a47c10dc95"
      },
      "execution_count": null,
      "outputs": [
        {
          "output_type": "execute_result",
          "data": {
            "text/plain": [
              "array([1, 2, 3, 4, 5])"
            ]
          },
          "metadata": {},
          "execution_count": 14
        }
      ]
    },
    {
      "cell_type": "code",
      "source": [
        "x = torch.from_numpy(arr)\n",
        "# Equivalent to x = torch.as_tensor(arr)\n",
        "\n",
        "print(x)"
      ],
      "metadata": {
        "id": "xwHduYTR1TTf",
        "outputId": "6e8d2e3a-f761-40b9-afa3-53871980b36d",
        "colab": {
          "base_uri": "https://localhost:8080/"
        }
      },
      "execution_count": null,
      "outputs": [
        {
          "output_type": "stream",
          "name": "stdout",
          "text": [
            "tensor([1, 2, 3, 4, 5])\n"
          ]
        }
      ]
    },
    {
      "cell_type": "markdown",
      "source": [
        "# Tensor Operations"
      ],
      "metadata": {
        "id": "UepObP8M3u5q"
      }
    },
    {
      "cell_type": "markdown",
      "source": [
        "## Indexing and slicing\n",
        "Extracting specific values from a tensor works just the same as with NumPy arrays<br>\n",
        "<img src='http://scipy-lectures.org/_images/numpy_indexing.png' width=\"500\" style=\"display: inline-block\"><br><br>\n",
        "Image source: http://www.scipy-lectures.org/_images/numpy_indexing.png"
      ],
      "metadata": {
        "id": "2Lkd19M0_paB"
      }
    },
    {
      "cell_type": "code",
      "source": [
        "sample=torch.randn((5,3,4))\n",
        "sample"
      ],
      "metadata": {
        "colab": {
          "base_uri": "https://localhost:8080/"
        },
        "id": "dnEobFVm3yVK",
        "outputId": "2a540607-1dc1-42e4-98af-08824e6769ce"
      },
      "execution_count": null,
      "outputs": [
        {
          "output_type": "execute_result",
          "data": {
            "text/plain": [
              "tensor([[[ 0.4984, -0.0510, -0.0225, -0.1295],\n",
              "         [ 1.5860, -0.1965, -1.2437,  2.1999],\n",
              "         [ 0.2096, -1.6973, -0.9774,  0.8549]],\n",
              "\n",
              "        [[-0.9490,  0.1540,  0.7529,  1.2021],\n",
              "         [ 0.6981, -1.8349,  0.5487,  0.5586],\n",
              "         [-1.0997,  0.3735, -0.5935,  0.5805]],\n",
              "\n",
              "        [[-0.3051,  0.0702,  1.7438,  0.5833],\n",
              "         [ 0.7703, -0.7649,  0.2200,  0.4248],\n",
              "         [-0.9899, -2.0935,  0.7467,  1.0287]],\n",
              "\n",
              "        [[-0.5886,  0.8774, -0.8699,  0.8393],\n",
              "         [-0.6157, -0.5290,  0.3691,  1.1090],\n",
              "         [ 0.7334,  0.4059,  0.0754, -1.6781]],\n",
              "\n",
              "        [[ 1.2092,  1.0508,  0.3534,  0.1931],\n",
              "         [ 0.3432, -0.8378, -1.7473,  0.6904],\n",
              "         [-0.7233, -0.0128, -0.3795, -3.2524]]])"
            ]
          },
          "metadata": {},
          "execution_count": 20
        }
      ]
    },
    {
      "cell_type": "code",
      "source": [
        "sample[1:6:2]"
      ],
      "metadata": {
        "colab": {
          "base_uri": "https://localhost:8080/"
        },
        "id": "eb45ZOWK_w9k",
        "outputId": "6934126d-95e9-4db3-8b86-b20abf0b9112"
      },
      "execution_count": null,
      "outputs": [
        {
          "output_type": "execute_result",
          "data": {
            "text/plain": [
              "tensor([[[-0.6362,  1.4063,  0.5077, -1.1240],\n",
              "         [-0.7107,  1.0348,  0.7007, -0.8954],\n",
              "         [ 0.4269, -0.7604, -0.7866, -1.0146]],\n",
              "\n",
              "        [[-0.1018,  0.6659, -0.6769, -0.2989],\n",
              "         [ 0.5596, -0.9448, -0.2645, -0.5505],\n",
              "         [-0.7958,  0.7583, -0.3792, -0.4253]]])"
            ]
          },
          "metadata": {},
          "execution_count": 18
        }
      ]
    },
    {
      "cell_type": "code",
      "source": [
        "sample[1:6:2,[True,False,True],::2]"
      ],
      "metadata": {
        "id": "JZyyfPoMi37n",
        "outputId": "2e8f77c7-48bd-45d6-ac15-48b6713a1c98",
        "colab": {
          "base_uri": "https://localhost:8080/"
        }
      },
      "execution_count": null,
      "outputs": [
        {
          "output_type": "execute_result",
          "data": {
            "text/plain": [
              "tensor([[[-0.9490,  0.7529],\n",
              "         [-1.0997, -0.5935]],\n",
              "\n",
              "        [[-0.5886, -0.8699],\n",
              "         [ 0.7334,  0.0754]]])"
            ]
          },
          "metadata": {},
          "execution_count": 22
        }
      ]
    },
    {
      "cell_type": "code",
      "source": [
        "sample[1:6:2,[0,2],::2]"
      ],
      "metadata": {
        "colab": {
          "base_uri": "https://localhost:8080/"
        },
        "id": "mI47OccYkpvA",
        "outputId": "b2141d46-9644-462a-f03c-0d9ae8d348f6"
      },
      "execution_count": null,
      "outputs": [
        {
          "output_type": "execute_result",
          "data": {
            "text/plain": [
              "tensor([[[-0.9490,  0.7529],\n",
              "         [-1.0997, -0.5935]],\n",
              "\n",
              "        [[-0.5886, -0.8699],\n",
              "         [ 0.7334,  0.0754]]])"
            ]
          },
          "metadata": {},
          "execution_count": 21
        }
      ]
    },
    {
      "cell_type": "markdown",
      "source": [
        "## Reshaping a tensor"
      ],
      "metadata": {
        "id": "ymHsD0iKAWCl"
      }
    },
    {
      "cell_type": "code",
      "source": [
        "x = torch.arange(6)\n",
        "x.shape"
      ],
      "metadata": {
        "colab": {
          "base_uri": "https://localhost:8080/"
        },
        "id": "A3087L2D_y4E",
        "outputId": "5c8268d4-aa7e-461d-ff28-2137370dff25"
      },
      "execution_count": null,
      "outputs": [
        {
          "output_type": "execute_result",
          "data": {
            "text/plain": [
              "torch.Size([6])"
            ]
          },
          "metadata": {},
          "execution_count": 29
        }
      ]
    },
    {
      "cell_type": "code",
      "source": [
        "x.reshape(6,1).shape"
      ],
      "metadata": {
        "colab": {
          "base_uri": "https://localhost:8080/"
        },
        "id": "AKWFyeoKAOyE",
        "outputId": "bf84c9d9-baf7-47fc-d6c5-bab8d5748fc0"
      },
      "execution_count": null,
      "outputs": [
        {
          "output_type": "execute_result",
          "data": {
            "text/plain": [
              "torch.Size([6, 1])"
            ]
          },
          "metadata": {},
          "execution_count": 28
        }
      ]
    },
    {
      "cell_type": "markdown",
      "source": [
        "## Tensor Arithmetic\n",
        "Adding tensors can be performed a few different ways depending on the desired result.<br>\n",
        "\n",
        "As a simple expression:"
      ],
      "metadata": {
        "id": "HXcQqdS2A6Dj"
      }
    },
    {
      "cell_type": "code",
      "source": [
        "a = torch.tensor([1,2,3], dtype=torch.float)\n",
        "b = torch.tensor([4,5,6], dtype=torch.float)\n",
        "print(a + b)"
      ],
      "metadata": {
        "colab": {
          "base_uri": "https://localhost:8080/"
        },
        "id": "8DbveY8PAULj",
        "outputId": "ab4f7fa0-5157-4938-e007-09e859a93d3a"
      },
      "execution_count": null,
      "outputs": [
        {
          "output_type": "stream",
          "name": "stdout",
          "text": [
            "tensor([5., 7., 9.])\n"
          ]
        }
      ]
    },
    {
      "cell_type": "markdown",
      "source": [
        "As arguments passed into a torch operation:"
      ],
      "metadata": {
        "id": "ewWJuGSDBGr7"
      }
    },
    {
      "cell_type": "code",
      "source": [
        "print(torch.add(a, b))"
      ],
      "metadata": {
        "colab": {
          "base_uri": "https://localhost:8080/"
        },
        "id": "meR-_5kYA9oO",
        "outputId": "f4e03b4a-0726-4a62-fb3e-5fe5a141cc33"
      },
      "execution_count": null,
      "outputs": [
        {
          "output_type": "stream",
          "name": "stdout",
          "text": [
            "tensor([5., 7., 9.])\n"
          ]
        }
      ]
    },
    {
      "cell_type": "code",
      "source": [
        "a.add_(b)"
      ],
      "metadata": {
        "colab": {
          "base_uri": "https://localhost:8080/"
        },
        "id": "3UwYpMGAlxJD",
        "outputId": "5a98232c-95c1-4e86-fb37-d476cdcbeb0b"
      },
      "execution_count": null,
      "outputs": [
        {
          "output_type": "execute_result",
          "data": {
            "text/plain": [
              "tensor([5., 7., 9.])"
            ]
          },
          "metadata": {},
          "execution_count": 32
        }
      ]
    },
    {
      "cell_type": "code",
      "source": [
        "a"
      ],
      "metadata": {
        "colab": {
          "base_uri": "https://localhost:8080/"
        },
        "id": "Myiv6dH_lzoT",
        "outputId": "24e0b572-bb37-4d63-bccc-2a68b27925c7"
      },
      "execution_count": null,
      "outputs": [
        {
          "output_type": "execute_result",
          "data": {
            "text/plain": [
              "tensor([5., 7., 9.])"
            ]
          },
          "metadata": {},
          "execution_count": 33
        }
      ]
    },
    {
      "cell_type": "markdown",
      "source": [
        "### Basic Tensor Operations\n",
        "<table style=\"display: inline-block\">\n",
        "<caption style=\"text-align: center\"><strong>Arithmetic</strong></caption>\n",
        "<tr><th>OPERATION</th><th>FUNCTION</th><th>DESCRIPTION</th></tr>\n",
        "<tr><td>a + b</td><td>a.add(b)</td><td>element wise addition</td></tr>\n",
        "<tr><td>a - b</td><td>a.sub(b)</td><td>subtraction</td></tr>\n",
        "<tr><td>a * b</td><td>a.mul(b)</td><td>multiplication</td></tr>\n",
        "<tr><td>a / b</td><td>a.div(b)</td><td>division</td></tr>\n",
        "<tr><td>a % b</td><td>a.fmod(b)</td><td>modulo (remainder after division)</td></tr>\n",
        "<tr><td>a<sup>b</sup></td><td>a.pow(b)</td><td>power</td></tr>\n",
        "<tr><td>&nbsp;</td><td></td><td></td></tr>\n",
        "</table>"
      ],
      "metadata": {
        "id": "O0BiBlNkBSwT"
      }
    },
    {
      "cell_type": "markdown",
      "source": [
        "<table style=\"display: inline-block\">\n",
        "<caption style=\"text-align: center\"><strong>Trigonometry</strong></caption>\n",
        "<tr><th>OPERATION</th><th>FUNCTION</th><th>DESCRIPTION</th></tr>\n",
        "<tr><td>sin(a)</td><td>torch.sin(a)</td><td>sine</td></tr>\n",
        "<tr><td>cos(a)</td><td>torch.sin(a)</td><td>cosine</td></tr>\n",
        "<tr><td>tan(a)</td><td>torch.sin(a)</td><td>tangent</td></tr>\n",
        "<tr><td>arcsin(a)</td><td>torch.asin(a)</td><td>arc sine</td></tr>\n",
        "<tr><td>arccos(a)</td><td>torch.acos(a)</td><td>arc cosine</td></tr>\n",
        "<tr><td>arctan(a)</td><td>torch.atan(a)</td><td>arc tangent</td></tr>\n",
        "<tr><td>sinh(a)</td><td>torch.sinh(a)</td><td>hyperbolic sine</td></tr>\n",
        "<tr><td>cosh(a)</td><td>torch.cosh(a)</td><td>hyperbolic cosine</td></tr>\n",
        "<tr><td>tanh(a)</td><td>torch.tanh(a)</td><td>hyperbolic tangent</td></tr>\n",
        "</table>"
      ],
      "metadata": {
        "id": "OGG5fblwturV"
      }
    },
    {
      "cell_type": "markdown",
      "source": [
        "<table style=\"display: inline-block\">\n",
        "<caption style=\"text-align: center\"><strong>Monomial Operations</strong></caption>\n",
        "<tr><th>OPERATION</th><th>FUNCTION</th><th>DESCRIPTION</th></tr>\n",
        "<tr><td>|a|</td><td>torch.abs(a)</td><td>absolute value</td></tr>\n",
        "<tr><td>1/a</td><td>torch.reciprocal(a)</td><td>reciprocal</td></tr>\n",
        "<tr><td>$\\sqrt{a}$</td><td>torch.sqrt(a)</td><td>square root</td></tr>\n",
        "<tr><td>log(a)</td><td>torch.log(a)</td><td>natural log</td></tr>\n",
        "<tr><td>e<sup>a</sup></td><td>torch.exp(a)</td><td>exponential</td></tr>\n",
        "<tr><td>12.34  ==>  12.</td><td>torch.trunc(a)</td><td>truncated integer</td></tr>\n",
        "<tr><td>12.34  ==>  0.34</td><td>torch.frac(a)</td><td>fractional component</td></tr>\n",
        "</table>"
      ],
      "metadata": {
        "id": "7t2k0AfTBXQZ"
      }
    },
    {
      "cell_type": "markdown",
      "source": [
        "<table style=\"display: inline-block\">\n",
        "<caption style=\"text-align: center\"><strong>Summary Statistics</strong></caption>\n",
        "<tr><th>OPERATION</th><th>FUNCTION</th><th>DESCRIPTION</th></tr>\n",
        "<tr><td>$\\sum a$</td><td>torch.sum(a)</td><td>sum</td></tr>\n",
        "<tr><td>$\\bar a$</td><td>torch.mean(a)</td><td>mean</td></tr>\n",
        "<tr><td>a<sub>max</sub></td><td>torch.max(a)</td><td>maximum</td></tr>\n",
        "<tr><td>a<sub>min</sub></td><td>torch.min(a)</td><td>minimum</td></tr>\n",
        "<tr><td colspan=\"3\">torch.max(a,b) returns a tensor of size a<br>containing the element wise max between a and b</td></tr>\n",
        "</table>"
      ],
      "metadata": {
        "id": "wlyu32kaBaAq"
      }
    },
    {
      "cell_type": "code",
      "source": [
        "x=torch.arange(24).reshape(2,3,4)\n",
        "x"
      ],
      "metadata": {
        "id": "_FjvPj5drJR9",
        "outputId": "00d79059-0bee-40b3-a76d-2f4bb6cc76ce",
        "colab": {
          "base_uri": "https://localhost:8080/"
        }
      },
      "execution_count": null,
      "outputs": [
        {
          "output_type": "execute_result",
          "data": {
            "text/plain": [
              "tensor([[[ 0,  1,  2,  3],\n",
              "         [ 4,  5,  6,  7],\n",
              "         [ 8,  9, 10, 11]],\n",
              "\n",
              "        [[12, 13, 14, 15],\n",
              "         [16, 17, 18, 19],\n",
              "         [20, 21, 22, 23]]])"
            ]
          },
          "metadata": {},
          "execution_count": 34
        }
      ]
    },
    {
      "cell_type": "code",
      "source": [
        "agg=x.sum()\n",
        "print(agg,agg.shape)"
      ],
      "metadata": {
        "id": "AkESV9gOrc92",
        "outputId": "bf7c63a6-6859-4617-d448-65821f2eb720",
        "colab": {
          "base_uri": "https://localhost:8080/"
        }
      },
      "execution_count": null,
      "outputs": [
        {
          "output_type": "stream",
          "name": "stdout",
          "text": [
            "tensor(276) torch.Size([])\n"
          ]
        }
      ]
    },
    {
      "cell_type": "markdown",
      "source": [
        "## Dot products\n",
        "A <a href='https://en.wikipedia.org/wiki/Dot_product'>dot product</a> is the sum of the products of the corresponding entries of two 1D tensors. If the tensors are both vectors, the dot product is given as:<br>\n",
        "\n",
        "$\\begin{bmatrix} a & b & c \\end{bmatrix} \\;\\cdot\\; \\begin{bmatrix} d & e & f \\end{bmatrix} = ad + be + cf$\n",
        "\n",
        "If the tensors include a column vector, then the dot product is the sum of the result of the multiplied matrices. For example:<br>\n",
        "$\\begin{bmatrix} a & b & c \\end{bmatrix} \\;\\cdot\\; \\begin{bmatrix} d \\\\ e \\\\ f \\end{bmatrix} = ad + be + cf$<br><br>\n",
        "Dot products can be expressed as <a href='https://pytorch.org/docs/stable/torch.html#torch.dot'><strong><tt>torch.dot(a,b)</tt></strong></a> or `a.dot(b)` or `b.dot(a)`"
      ],
      "metadata": {
        "id": "Anh-w765BzmZ"
      }
    },
    {
      "cell_type": "code",
      "source": [
        "a = torch.tensor([1,2,3], dtype=torch.float)\n",
        "b = torch.tensor([4,5,6], dtype=torch.float)\n",
        "print(a.mul(b)) # for reference\n",
        "print()\n",
        "print(a.dot(b))"
      ],
      "metadata": {
        "colab": {
          "base_uri": "https://localhost:8080/"
        },
        "id": "pkP-JydKBIrQ",
        "outputId": "6e9bed7a-4b46-4895-b270-838e22deac92"
      },
      "execution_count": null,
      "outputs": [
        {
          "output_type": "stream",
          "name": "stdout",
          "text": [
            "tensor([ 4., 10., 18.])\n",
            "\n",
            "tensor(32.)\n"
          ]
        }
      ]
    },
    {
      "cell_type": "markdown",
      "source": [
        "## Matrix multiplication\n",
        "2D <a href='https://en.wikipedia.org/wiki/Matrix_multiplication'>Matrix multiplication</a> is possible when the number of columns in tensor <strong><tt>A</tt></strong> matches the number of rows in tensor <strong><tt>B</tt></strong>. In this case, the product of tensor <strong><tt>A</tt></strong> with size $(x,y)$ and tensor <strong><tt>B</tt></strong> with size $(y,z)$ results in a tensor of size $(x,z)$\n",
        "<div>\n",
        "<!-- <div align=\"left\"><img src='../Images/Matrix_multiplication_diagram.png' align=\"left\"><br><br> -->\n",
        "\n",
        "$\\begin{bmatrix} a & b & c \\\\\n",
        "d & e & f \\end{bmatrix} \\;\\times\\; \\begin{bmatrix} m & n \\\\ p & q \\\\ r & s \\end{bmatrix} = \\begin{bmatrix} (am+bp+cr) & (an+bq+cs) \\\\\n",
        "(dm+ep+fr) & (dn+eq+fs) \\end{bmatrix}$</div></div>\n",
        "\n",
        "<div style=\"clear:both\">Image source: <a href='https://commons.wikimedia.org/wiki/File:Matrix_multiplication_diagram_2.svg'>https://commons.wikimedia.org/wiki/File:Matrix_multiplication_diagram_2.svg</a></div>\n",
        "\n",
        "Matrix multiplication can be computed using <a href='https://pytorch.org/docs/stable/torch.html#torch.mm'><strong><tt>torch.mm(a,b)</tt></strong></a> or `a.mm(b)` or `a @ b`"
      ],
      "metadata": {
        "id": "ktiHUSj0CLmg"
      }
    },
    {
      "cell_type": "code",
      "source": [
        "a = torch.tensor([[0,2,4],[1,3,5]], dtype=torch.float)\n",
        "b = torch.tensor([[6,7],[8,9],[10,11]], dtype=torch.float)\n",
        "\n",
        "print('a: ',a.size())\n",
        "print('b: ',b.size())\n",
        "print('a x b: ',torch.mm(a,b).size())"
      ],
      "metadata": {
        "colab": {
          "base_uri": "https://localhost:8080/"
        },
        "id": "DO-BUHLKB5aL",
        "outputId": "a917cad6-cc44-4064-912d-5f1bcf50cb2a"
      },
      "execution_count": null,
      "outputs": [
        {
          "output_type": "stream",
          "name": "stdout",
          "text": [
            "a:  torch.Size([2, 3])\n",
            "b:  torch.Size([3, 2])\n",
            "a x b:  torch.Size([2, 2])\n"
          ]
        }
      ]
    },
    {
      "cell_type": "code",
      "source": [
        "print(torch.mm(a,b))"
      ],
      "metadata": {
        "colab": {
          "base_uri": "https://localhost:8080/"
        },
        "id": "-FdLy-MzCe9Y",
        "outputId": "017e7fa5-9db6-4b89-d293-e22e796430ad"
      },
      "execution_count": null,
      "outputs": [
        {
          "output_type": "stream",
          "name": "stdout",
          "text": [
            "tensor([[56., 62.],\n",
            "        [80., 89.]])\n"
          ]
        }
      ]
    },
    {
      "cell_type": "markdown",
      "source": [
        "##Broadcasting\n",
        "\n",
        "The term broadcasting describes how arrays with different shapes are treated during arithmetic operations.\n",
        "\n",
        "[broadcasting](https://numpy.org/doc/stable/user/basics.broadcasting.html)"
      ],
      "metadata": {
        "id": "k3QQzw_UH2KC"
      }
    },
    {
      "cell_type": "code",
      "source": [
        "a=torch.randn(2,4,3)\n",
        "b=torch.randn(2,1,3)\n",
        "print(a)\n",
        "print(b)"
      ],
      "metadata": {
        "id": "KBwb-goGv7tI",
        "outputId": "cb9803e4-30ee-4c45-edf9-5fcb7a7d21b4",
        "colab": {
          "base_uri": "https://localhost:8080/"
        }
      },
      "execution_count": null,
      "outputs": [
        {
          "output_type": "stream",
          "name": "stdout",
          "text": [
            "tensor([[[-1.9088,  1.4046,  2.0571],\n",
            "         [ 2.4215, -0.8084,  0.7456],\n",
            "         [-0.2913, -0.3026, -0.5061],\n",
            "         [ 0.7473,  0.0693, -1.8419]],\n",
            "\n",
            "        [[ 0.6095, -0.5475,  0.0643],\n",
            "         [ 0.6844,  0.7422,  1.2623],\n",
            "         [ 0.3364,  1.2993, -0.1439],\n",
            "         [ 1.6933,  1.2681, -0.3593]]])\n",
            "tensor([[[-0.4025, -1.5609,  0.6935]],\n",
            "\n",
            "        [[-1.4314,  0.3154, -0.7423]]])\n"
          ]
        }
      ]
    },
    {
      "cell_type": "code",
      "source": [
        "print(a.shape,b.shape)"
      ],
      "metadata": {
        "id": "s_NSVxWY0EUr",
        "colab": {
          "base_uri": "https://localhost:8080/"
        },
        "outputId": "63f741a2-b616-425c-e534-cee64c68fc30"
      },
      "execution_count": null,
      "outputs": [
        {
          "output_type": "stream",
          "name": "stdout",
          "text": [
            "torch.Size([2, 4, 3]) torch.Size([2, 1, 3])\n"
          ]
        }
      ]
    },
    {
      "cell_type": "code",
      "source": [
        "a+b"
      ],
      "metadata": {
        "colab": {
          "base_uri": "https://localhost:8080/"
        },
        "id": "JSrguoV2nI_7",
        "outputId": "8a312ea1-be23-4afe-bc5b-cb6859ca3ae6"
      },
      "execution_count": null,
      "outputs": [
        {
          "output_type": "execute_result",
          "data": {
            "text/plain": [
              "tensor([[[-2.3113, -0.1564,  2.7506],\n",
              "         [ 2.0190, -2.3693,  1.4390],\n",
              "         [-0.6938, -1.8635,  0.1874],\n",
              "         [ 0.3448, -1.4916, -1.1485]],\n",
              "\n",
              "        [[-0.8218, -0.2321, -0.6780],\n",
              "         [-0.7470,  1.0576,  0.5200],\n",
              "         [-1.0950,  1.6147, -0.8862],\n",
              "         [ 0.2619,  1.5835, -1.1016]]])"
            ]
          },
          "metadata": {},
          "execution_count": 42
        }
      ]
    },
    {
      "cell_type": "markdown",
      "source": [
        "Example of importance of keepdim and broadcasting.\n",
        "\n",
        "\n",
        "suppose we want to multiply each row by their sum.\n",
        "for example:\n",
        "```\n",
        "tensor([[ 1, 2, 2, 3] * (1+2+2+3)=8 ,\n",
        "        [4, 5, 6, 7], * 22\n",
        "        [8, 9, 10, 11], * 38\n",
        "        [12, 13, 14, 15] * 54 ])\n",
        "```"
      ],
      "metadata": {
        "id": "YtTV0EAQ1KGq"
      }
    },
    {
      "cell_type": "code",
      "source": [
        "n=4\n",
        "z=torch.randn(n,4)\n",
        "z\n",
        "#we want to multiply each row by its sum"
      ],
      "metadata": {
        "id": "Trxyu_Z0wvdI",
        "outputId": "54f29b24-6f54-4bcf-f73f-0b5c215d776e",
        "colab": {
          "base_uri": "https://localhost:8080/"
        }
      },
      "execution_count": 6,
      "outputs": [
        {
          "output_type": "execute_result",
          "data": {
            "text/plain": [
              "tensor([[-1.2458, -1.9530,  1.1143,  0.8331],\n",
              "        [-1.7013,  0.2078,  0.5179,  1.1462],\n",
              "        [-0.5058, -2.9689,  0.0898,  0.9569],\n",
              "        [ 0.3507, -0.5325,  0.9684, -0.3983]])"
            ]
          },
          "metadata": {},
          "execution_count": 6
        }
      ]
    },
    {
      "cell_type": "code",
      "source": [
        "col_sum=z.sum(dim=1)\n",
        "print(col_sum,col_sum.shape)"
      ],
      "metadata": {
        "id": "CYu7yYPt1Tvx",
        "outputId": "16e54fbb-49b9-494c-da6f-78fff2bb02a7",
        "colab": {
          "base_uri": "https://localhost:8080/"
        }
      },
      "execution_count": 7,
      "outputs": [
        {
          "output_type": "stream",
          "name": "stdout",
          "text": [
            "tensor([-1.2514,  0.1706, -2.4281,  0.3883]) torch.Size([4])\n"
          ]
        }
      ]
    },
    {
      "cell_type": "code",
      "source": [
        "z*col_sum"
      ],
      "metadata": {
        "id": "1192diH80Nxl",
        "outputId": "4641f478-b590-4bd9-c0fb-6f9d8a05ed0a",
        "colab": {
          "base_uri": "https://localhost:8080/"
        }
      },
      "execution_count": 8,
      "outputs": [
        {
          "output_type": "execute_result",
          "data": {
            "text/plain": [
              "tensor([[ 1.5590, -0.3332, -2.7057,  0.3235],\n",
              "        [ 2.1290,  0.0355, -1.2575,  0.4451],\n",
              "        [ 0.6330, -0.5066, -0.2181,  0.3716],\n",
              "        [-0.4388, -0.0909, -2.3513, -0.1547]])"
            ]
          },
          "metadata": {},
          "execution_count": 8
        }
      ]
    },
    {
      "cell_type": "markdown",
      "source": [
        "The above result is incorrect. Actually each column i is multiplied with sum of each row i.\n",
        "\n",
        "Since the matrice is 4x4 we don't get any errors but logically it is wrong.\n",
        "Due to broadcasting rule:\n",
        "\n",
        "z.shape=> (4,4)\n",
        "\n",
        "summation.shape => (4)\n",
        "\n",
        "according to broadcasting rule:\n",
        "\n",
        "z        :4x4\n",
        "\n",
        "summation:1x4\n",
        "\n",
        "they are broadcastable and summation is repeated along axix=0.\n",
        "\n",
        "Now let's try with n=5"
      ],
      "metadata": {
        "id": "faI-S2y73IgO"
      }
    },
    {
      "cell_type": "code",
      "source": [
        "n=5\n",
        "z=torch.randn(n,4)\n",
        "col_sum=z.sum(dim=1)\n",
        "print(col_sum,col_sum.shape)\n",
        "z*col_sum\n",
        "#we want to multiply each row by its sum"
      ],
      "metadata": {
        "colab": {
          "base_uri": "https://localhost:8080/",
          "height": 231
        },
        "id": "j0saRbzV5K4F",
        "outputId": "9f72a6f7-b2a3-489a-e94e-d4462a3dbbda"
      },
      "execution_count": 9,
      "outputs": [
        {
          "output_type": "stream",
          "name": "stdout",
          "text": [
            "tensor([-1.4667,  0.5817,  1.6747, -1.1580,  1.0012]) torch.Size([5])\n"
          ]
        },
        {
          "output_type": "error",
          "ename": "RuntimeError",
          "evalue": "The size of tensor a (4) must match the size of tensor b (5) at non-singleton dimension 1",
          "traceback": [
            "\u001b[0;31m---------------------------------------------------------------------------\u001b[0m",
            "\u001b[0;31mRuntimeError\u001b[0m                              Traceback (most recent call last)",
            "\u001b[0;32m<ipython-input-9-94ea845600df>\u001b[0m in \u001b[0;36m<cell line: 5>\u001b[0;34m()\u001b[0m\n\u001b[1;32m      3\u001b[0m \u001b[0mcol_sum\u001b[0m\u001b[0;34m=\u001b[0m\u001b[0mz\u001b[0m\u001b[0;34m.\u001b[0m\u001b[0msum\u001b[0m\u001b[0;34m(\u001b[0m\u001b[0mdim\u001b[0m\u001b[0;34m=\u001b[0m\u001b[0;36m1\u001b[0m\u001b[0;34m)\u001b[0m\u001b[0;34m\u001b[0m\u001b[0;34m\u001b[0m\u001b[0m\n\u001b[1;32m      4\u001b[0m \u001b[0mprint\u001b[0m\u001b[0;34m(\u001b[0m\u001b[0mcol_sum\u001b[0m\u001b[0;34m,\u001b[0m\u001b[0mcol_sum\u001b[0m\u001b[0;34m.\u001b[0m\u001b[0mshape\u001b[0m\u001b[0;34m)\u001b[0m\u001b[0;34m\u001b[0m\u001b[0;34m\u001b[0m\u001b[0m\n\u001b[0;32m----> 5\u001b[0;31m \u001b[0mz\u001b[0m\u001b[0;34m*\u001b[0m\u001b[0mcol_sum\u001b[0m\u001b[0;34m\u001b[0m\u001b[0;34m\u001b[0m\u001b[0m\n\u001b[0m\u001b[1;32m      6\u001b[0m \u001b[0;31m#we want to multiply each row by its sum\u001b[0m\u001b[0;34m\u001b[0m\u001b[0;34m\u001b[0m\u001b[0m\n",
            "\u001b[0;31mRuntimeError\u001b[0m: The size of tensor a (4) must match the size of tensor b (5) at non-singleton dimension 1"
          ]
        }
      ]
    },
    {
      "cell_type": "markdown",
      "source": [
        "As you can see this they are unbroadcastable.\n",
        "\n",
        "The right way to do this:"
      ],
      "metadata": {
        "id": "bdK_DttK5dVH"
      }
    },
    {
      "cell_type": "code",
      "source": [
        "n=5\n",
        "z=torch.randn(n,4)\n",
        "col_sum=z.sum(dim=1,keepdim=True)\n",
        "print(col_sum,col_sum.shape)\n",
        "z*col_sum\n",
        "#we want to multiply each row by its sum"
      ],
      "metadata": {
        "colab": {
          "base_uri": "https://localhost:8080/"
        },
        "id": "zveYOdHN5pS7",
        "outputId": "bb4a8495-5f0f-4b2c-edda-6bdb99f12a63"
      },
      "execution_count": 10,
      "outputs": [
        {
          "output_type": "stream",
          "name": "stdout",
          "text": [
            "tensor([[-1.6083],\n",
            "        [-0.2329],\n",
            "        [-1.1685],\n",
            "        [ 1.2051],\n",
            "        [-1.1445]]) torch.Size([5, 1])\n"
          ]
        },
        {
          "output_type": "execute_result",
          "data": {
            "text/plain": [
              "tensor([[ 1.2592, -1.3221,  1.8311,  0.8185],\n",
              "        [ 0.0571,  0.1168, -0.0650, -0.0546],\n",
              "        [-1.2619,  2.0115,  0.4243,  0.1916],\n",
              "        [ 0.2668,  1.0128,  1.4516, -1.2790],\n",
              "        [ 0.7584, -0.7500,  0.8218,  0.4797]])"
            ]
          },
          "metadata": {},
          "execution_count": 10
        }
      ]
    },
    {
      "cell_type": "markdown",
      "source": [
        "This time the broadcasting rule is taking action as follows:\n",
        "\n",
        "z        :5x4\n",
        "\n",
        "summation:5x1\n",
        "\n",
        "and summation is repeated along second axis which is correct.\n"
      ],
      "metadata": {
        "id": "LveAI0Au5zzN"
      }
    },
    {
      "cell_type": "markdown",
      "source": [
        "## Gradients\n",
        "#### Step 1. Create a tensor with <tt>requires_grad</tt> set to True\n",
        "This sets up computational tracking on the tensor."
      ],
      "metadata": {
        "id": "ZjCZknsVChZF"
      }
    },
    {
      "cell_type": "code",
      "source": [
        "x = torch.tensor(2.0, requires_grad=True)"
      ],
      "metadata": {
        "id": "O3JXHknRCwHL"
      },
      "execution_count": null,
      "outputs": []
    },
    {
      "cell_type": "markdown",
      "source": [
        "#### Step 2. Define a function\n",
        "$f(x)=2(2x^4+2+3x^4+2)$\n",
        "\n",
        "$f(x)'=40x^3$"
      ],
      "metadata": {
        "id": "k1oAo43TDCvX"
      }
    },
    {
      "cell_type": "code",
      "source": [
        "y=2*x**4+2\n",
        "print(y)\n",
        "y=2*(y+3*x**4+2)\n",
        "print(y)"
      ],
      "metadata": {
        "colab": {
          "base_uri": "https://localhost:8080/"
        },
        "id": "Du6RlTZsDfwK",
        "outputId": "a982c8ca-9e07-46da-d45a-fcc29091ce98"
      },
      "execution_count": null,
      "outputs": [
        {
          "output_type": "stream",
          "name": "stdout",
          "text": [
            "tensor(34., grad_fn=<AddBackward0>)\n",
            "tensor(168., grad_fn=<MulBackward0>)\n"
          ]
        }
      ]
    },
    {
      "cell_type": "markdown",
      "source": [
        "#### Step 3. Backprop"
      ],
      "metadata": {
        "id": "SUyO0g8sEQki"
      }
    },
    {
      "cell_type": "code",
      "source": [
        "print(x.grad)\n"
      ],
      "metadata": {
        "colab": {
          "base_uri": "https://localhost:8080/"
        },
        "id": "XpViw-0wENOA",
        "outputId": "c47bb151-9837-4365-a6a2-7a6d075bcdee"
      },
      "execution_count": null,
      "outputs": [
        {
          "output_type": "stream",
          "name": "stdout",
          "text": [
            "tensor(640.)\n"
          ]
        }
      ]
    },
    {
      "cell_type": "code",
      "source": [
        "y.backward()"
      ],
      "metadata": {
        "id": "USDtiDKbEt0D"
      },
      "execution_count": null,
      "outputs": []
    },
    {
      "cell_type": "code",
      "source": [
        "x.grad=torch.tensor(0.)"
      ],
      "metadata": {
        "id": "SX0_i1H3Fu5g"
      },
      "execution_count": null,
      "outputs": []
    },
    {
      "cell_type": "markdown",
      "source": [
        "## Turn off tracking\n",
        "There may be times when we don't want or need to track the computational history.\n",
        "\n",
        "You can reset a tensor's <tt>requires_grad</tt> attribute in-place using `.requires_grad_(True)` (or False) as needed.\n",
        "\n",
        "When performing evaluations, it's often helpful to wrap a set of operations in `with torch.no_grad():`\n",
        "\n",
        "A less-used method is to run `.detach()` on a tensor to prevent future computations from being tracked. This can be handy when cloning a tensor."
      ],
      "metadata": {
        "id": "jv4EPX4RHvgL"
      }
    },
    {
      "cell_type": "code",
      "source": [
        "with torch.no_grad():\n",
        "  y=2*x**4+2\n",
        "print(y)\n",
        "y=2*(y+3*x**4+2)\n",
        "print(y)"
      ],
      "metadata": {
        "colab": {
          "base_uri": "https://localhost:8080/"
        },
        "id": "r8UZnBMcHxDP",
        "outputId": "6f94aeba-eb5f-45c2-c3ca-3ee1a607439a"
      },
      "execution_count": null,
      "outputs": [
        {
          "output_type": "stream",
          "name": "stdout",
          "text": [
            "tensor(34.)\n",
            "tensor(168., grad_fn=<MulBackward0>)\n"
          ]
        }
      ]
    },
    {
      "cell_type": "code",
      "source": [
        "y.backward()\n",
        "print(x.grad)\n"
      ],
      "metadata": {
        "colab": {
          "base_uri": "https://localhost:8080/"
        },
        "id": "pv6M9hkXIEIM",
        "outputId": "3ed85a40-1f45-4530-e368-dc959cd33f99"
      },
      "execution_count": null,
      "outputs": [
        {
          "output_type": "stream",
          "name": "stdout",
          "text": [
            "tensor(192.)\n"
          ]
        }
      ]
    },
    {
      "cell_type": "markdown",
      "source": [
        "$y=2(y+3x^4+2)$\n",
        "\n",
        "\n",
        "$y'=24x^3$"
      ],
      "metadata": {
        "id": "efhk2MF5IjDT"
      }
    },
    {
      "cell_type": "markdown",
      "source": [
        "# Optimization with PyTorch\n",
        "In this section we'll use PyTorch's machine learning model to progressively develop a best-fit curve for a given set of data points.\n",
        "\n",
        "To start, we'll develop a collection of data points that appear random, but that fit a equation $y = x^2+2x+5$"
      ],
      "metadata": {
        "id": "-xEtcTqNH43R"
      }
    },
    {
      "cell_type": "code",
      "source": [
        "# Perform standard imports\n",
        "\n",
        "import torch\n",
        "import torch.nn as nn  # we'll use this a lot going forward!\n",
        "\n",
        "import numpy as np\n",
        "import matplotlib.pyplot as plt\n",
        "%matplotlib inline"
      ],
      "metadata": {
        "id": "JaRxUuoaH3Ad"
      },
      "execution_count": null,
      "outputs": []
    },
    {
      "cell_type": "markdown",
      "source": [
        "Creating the data points:"
      ],
      "metadata": {
        "id": "wsvyijhpIW-4"
      }
    },
    {
      "cell_type": "code",
      "source": [
        "X = torch.linspace(-10,10,100).reshape(-1,1)\n",
        "torch.manual_seed(71) # to obtain reproducible results\n",
        "e = torch.randint(-15,15,(100,1),dtype=torch.float)\n",
        "print(e.sum())\n",
        "y = X**2 + 2*X +5 + e\n",
        "print(y.shape)\n",
        "plt.scatter(X.numpy(), y.numpy())\n",
        "plt.ylabel('y')\n",
        "plt.xlabel('x');"
      ],
      "metadata": {
        "colab": {
          "base_uri": "https://localhost:8080/",
          "height": 504
        },
        "id": "6FSJ-Wf3IN6C",
        "outputId": "867b711a-0770-4638-90da-43771b8edc26"
      },
      "execution_count": null,
      "outputs": [
        {
          "output_type": "stream",
          "name": "stdout",
          "text": [
            "tensor(102.)\n",
            "torch.Size([100, 1])\n"
          ]
        },
        {
          "output_type": "display_data",
          "data": {
            "text/plain": [
              "<Figure size 640x480 with 1 Axes>"
            ],
            "image/png": "[encoded data removed]"
          },
          "metadata": {}
        }
      ]
    },
    {
      "cell_type": "markdown",
      "source": [
        "## Model classes\n",
        "PyTorch lets us define models as object classes that can store multiple model layers. In upcoming sections we'll set up several neural network layers, and determine how each layer should perform its forward pass to the next layer. For now, though, we only need a single <tt>linear</tt> layer."
      ],
      "metadata": {
        "id": "3eXVRI0Pwfx-"
      }
    },
    {
      "cell_type": "code",
      "source": [
        "class Model(nn.Module):\n",
        "    def __init__(self):\n",
        "        super().__init__()\n",
        "        self.a = nn.Parameter(torch.Tensor(torch.randn(1)).clone(),requires_grad=True)\n",
        "        self.b = nn.Parameter(torch.Tensor(torch.randn(1)),requires_grad=True)\n",
        "        self.c = nn.Parameter(torch.Tensor(torch.randn(1)),requires_grad=True)\n",
        "\n",
        "    def forward(self, x):\n",
        "        out=self.a*x**2+self.b*x+self.c\n",
        "        return out"
      ],
      "metadata": {
        "id": "ONIXoE77wiK1"
      },
      "execution_count": null,
      "outputs": []
    },
    {
      "cell_type": "code",
      "source": [
        "torch.manual_seed(59)\n",
        "model = Model()\n",
        "print(model.a.item(),model.b.item(),model.c.item())\n",
        "print(model)"
      ],
      "metadata": {
        "id": "wpM9DYgcIswj",
        "colab": {
          "base_uri": "https://localhost:8080/"
        },
        "outputId": "9e45067c-608c-4aca-e1e0-12639308c34b"
      },
      "execution_count": null,
      "outputs": [
        {
          "output_type": "stream",
          "name": "stdout",
          "text": [
            "-0.7782180309295654 0.4032409191131592 -0.8726842999458313\n",
            "Model()\n"
          ]
        }
      ]
    },
    {
      "cell_type": "markdown",
      "source": [
        "As models become more complex, it may be better to iterate over all the model parameters:"
      ],
      "metadata": {
        "id": "hKq6JQ64w27g"
      }
    },
    {
      "cell_type": "code",
      "source": [
        "for name, param in model.named_parameters():\n",
        "    print(name, '\\t', param.item())"
      ],
      "metadata": {
        "colab": {
          "base_uri": "https://localhost:8080/"
        },
        "id": "_aAD_6Edw5E_",
        "outputId": "62be5059-33b2-4615-f97b-4a21a57b08aa"
      },
      "execution_count": null,
      "outputs": [
        {
          "output_type": "stream",
          "name": "stdout",
          "text": [
            "a \t -0.7782180309295654\n",
            "b \t 0.4032409191131592\n",
            "c \t -0.8726842999458313\n"
          ]
        }
      ]
    },
    {
      "cell_type": "markdown",
      "source": [
        "## Plot the initial model\n",
        "We can plot the untrained model against our dataset to get an idea of our starting point."
      ],
      "metadata": {
        "id": "EsosDKzcxAfM"
      }
    },
    {
      "cell_type": "code",
      "source": [
        "\n",
        "with torch.no_grad():\n",
        "  Y=model(X)\n",
        "\n",
        "plt.scatter(X.numpy(), y.numpy())\n",
        "plt.plot(Y.detach().numpy(),X.detach().numpy(),'r')\n",
        "plt.title('Initial Model')\n",
        "plt.ylabel('y')\n",
        "plt.xlabel('x')"
      ],
      "metadata": {
        "colab": {
          "base_uri": "https://localhost:8080/",
          "height": 509
        },
        "id": "ao1w3MU2w-Vb",
        "outputId": "86d2783c-0cd1-4c0d-c821-60a6370d9192"
      },
      "execution_count": null,
      "outputs": [
        {
          "output_type": "execute_result",
          "data": {
            "text/plain": [
              "Text(0.5, 0, 'x')"
            ]
          },
          "metadata": {},
          "execution_count": 71
        },
        {
          "output_type": "display_data",
          "data": {
            "text/plain": [
              "<Figure size 640x480 with 1 Axes>"
            ],
            "image/png": "[encoded data removed]"
          },
          "metadata": {}
        }
      ]
    },
    {
      "cell_type": "markdown",
      "source": [
        "## Set the loss function\n",
        "We could write our own function to apply a Mean Squared Error (MSE) that follows<br>\n",
        "\n",
        "$\\begin{split}MSE &= \\frac {1} {n} \\sum_{i=1}^n {(y_i - \\hat y_i)}^2\\end{split}$<br>\n",
        "\n",
        "Fortunately PyTorch has it built in.<br>\n",
        "<em>By convention, you'll see the variable name \"criterion\" used, but feel free to use something like \"linear_loss_func\" if that's clearer.</em>"
      ],
      "metadata": {
        "id": "iNrld-15xNP-"
      }
    },
    {
      "cell_type": "code",
      "source": [
        "criterion = nn.MSELoss()"
      ],
      "metadata": {
        "id": "YyOIS95VxMIw"
      },
      "execution_count": null,
      "outputs": []
    },
    {
      "cell_type": "markdown",
      "source": [
        "## Set the optimization\n",
        "Here we'll use <a href='https://en.wikipedia.org/wiki/Stochastic_gradient_descent'>Stochastic Gradient Descent</a> (SGD) with an applied <a href='https://en.wikipedia.org/wiki/Learning_rate'>learning rate</a> (lr) of 0.001. Recall that the learning rate tells the optimizer how much to adjust each parameter on the next round of calculations. Too large a step and we run the risk of overshooting the minimum, causing the algorithm to diverge. Too small and it will take a long time to converge.\n",
        "\n",
        "For more complicated (multivariate) data, you might also consider passing optional <a href='https://en.wikipedia.org/wiki/Stochastic_gradient_descent#Momentum'><tt>momentum</tt></a> and <a href='https://en.wikipedia.org/wiki/Tikhonov_regularization'><tt>weight_decay</tt></a> arguments. Momentum allows the algorithm to \"roll over\" small bumps to avoid local minima that can cause convergence too soon. Weight decay (also called an L2 penalty) applies to biases.\n",
        "\n",
        "For more information, see <a href='https://pytorch.org/docs/stable/optim.html'><strong><tt>torch.optim</tt></strong></a>"
      ],
      "metadata": {
        "id": "wsxLXcV5xTUp"
      }
    },
    {
      "cell_type": "code",
      "source": [
        "optimizer = torch.optim.SGD(model.parameters(), lr = 0.0001)\n",
        "\n",
        "# You'll sometimes see this as\n",
        "# optimizer = torch.optim.SGD(model.parameters(), lr = 1e-3)"
      ],
      "metadata": {
        "id": "I2AtJZyLxTol"
      },
      "execution_count": null,
      "outputs": []
    },
    {
      "cell_type": "markdown",
      "source": [
        "## Train the model\n"
      ],
      "metadata": {
        "id": "jrgDSucXxZA0"
      }
    },
    {
      "cell_type": "markdown",
      "source": [
        "<div class=\"alert alert-info\"><strong>Let's walk through the steps we're about to take:</strong><br>\n",
        "\n",
        "1. Set a reasonably large number of passes<br>\n",
        "<tt><font color=white>epochs = 600</font></tt><br>\n",
        "2. Create a list to store loss values. This will let us view our progress afterward.<br>\n",
        "<tt><font color=white>losses = []</font></tt><br>\n",
        "<tt><font color=white>for i in range(epochs):</font></tt><br>\n",
        "3. Bump \"i\" so that the printed report starts at 1<br>\n",
        "<tt><font color=white>&nbsp;&nbsp;&nbsp;&nbsp;i+=1</font></tt><br>\n",
        "4. Create a prediction set by running \"X\" through the current model parameters<br>\n",
        "<tt><font color=white>&nbsp;&nbsp;&nbsp;&nbsp;y_pred = model.forward(X)</font></tt><br>\n",
        "5. Calculate the loss<br>\n",
        "<tt><font color=white>&nbsp;&nbsp;&nbsp;&nbsp;loss = criterion(y_pred, y)</font></tt><br>\n",
        "6. Add the loss value to our tracking list<br>\n",
        "<tt><font color=white>&nbsp;&nbsp;&nbsp;&nbsp;losses.append(loss)</font></tt><br>\n",
        "7. Print the current line of results<br>\n",
        "<tt><font color=white>&nbsp;&nbsp;&nbsp;&nbsp;print(f'epoch: {i:2} loss: {loss.item():10.8f}')</font></tt><br>\n",
        "8. Gradients accumulate with every backprop. To prevent compounding we need to reset the stored gradient for each new epoch.<br>\n",
        "<tt><font color=white>&nbsp;&nbsp;&nbsp;&nbsp;optimizer.zero_grad()</font></tt><br>\n",
        "9. Now we can backprop<br>\n",
        "<tt><font color=white>&nbsp;&nbsp;&nbsp;&nbsp;loss.backward()</font></tt><br>\n",
        "10. Finally, we can update the hyperparameters of our model<br>\n",
        "<tt><font color=white>&nbsp;&nbsp;&nbsp;&nbsp;optimizer.step()</font></tt>\n",
        "</div>"
      ],
      "metadata": {
        "id": "ovLD9yH3xcHl"
      }
    },
    {
      "cell_type": "code",
      "source": [
        "epochs = 600\n",
        "losses = []\n",
        "\n",
        "for i in range(epochs):\n",
        "    i+=1\n",
        "    y_pred = model.forward(X)\n",
        "    loss = criterion(y_pred, y)\n",
        "    losses.append(loss.item())\n",
        "    if i% 10 ==0:\n",
        "      print(f'epoch: {i:2}  loss: {loss.item():10.8f}  weight: a={model.a.item()},b={model.b.item()},c={model.c.item()} ')\n",
        "    optimizer.zero_grad()\n",
        "    loss.backward()\n",
        "    optimizer.step()"
      ],
      "metadata": {
        "colab": {
          "base_uri": "https://localhost:8080/"
        },
        "id": "cRYwvXhVxh6e",
        "outputId": "ace9100d-264d-45e6-f942-c59c70d45645"
      },
      "execution_count": null,
      "outputs": [
        {
          "output_type": "stream",
          "name": "stdout",
          "text": [
            "epoch: 10  loss: 184.50753784  weight: a=1.100180983543396,b=0.49655261635780334,c=-0.8366842865943909 \n",
            "epoch: 20  loss: 174.59780884  weight: a=1.1148896217346191,b=0.5937272906303406,c=-0.8305570483207703 \n",
            "epoch: 30  loss: 166.34996033  weight: a=1.1148614883422852,b=0.6844913363456726,c=-0.8246759176254272 \n",
            "epoch: 40  loss: 159.15008545  weight: a=1.1147657632827759,b=0.7692678570747375,c=-0.8188011050224304 \n",
            "epoch: 50  loss: 152.86445618  weight: a=1.1146697998046875,b=0.8484517335891724,c=-0.8129314184188843 \n",
            "epoch: 60  loss: 147.37646484  weight: a=1.1145740747451782,b=0.9224119782447815,c=-0.8070669770240784 \n",
            "epoch: 70  loss: 142.58432007  weight: a=1.1144782304763794,b=0.9914929866790771,c=-0.8012077808380127 \n",
            "epoch: 80  loss: 138.39929199  weight: a=1.1143826246261597,b=1.0560168027877808,c=-0.7953538298606873 \n",
            "epoch: 90  loss: 134.74388123  weight: a=1.11428701877594,b=1.1162840127944946,c=-0.7895050048828125 \n",
            "epoch: 100  loss: 131.55058289  weight: a=1.1141915321350098,b=1.1725754737854004,c=-0.7836613655090332 \n",
            "epoch: 110  loss: 128.76039124  weight: a=1.1140961647033691,b=1.2251533269882202,c=-0.7778229713439941 \n",
            "epoch: 120  loss: 126.32188416  weight: a=1.1140007972717285,b=1.2742629051208496,c=-0.7719897031784058 \n",
            "epoch: 130  loss: 124.19022369  weight: a=1.113905429840088,b=1.3201326131820679,c=-0.7661616206169128 \n",
            "epoch: 140  loss: 122.32626343  weight: a=1.1138103008270264,b=1.3629764318466187,c=-0.7603387832641602 \n",
            "epoch: 150  loss: 120.69583893  weight: a=1.1137152910232544,b=1.4029937982559204,c=-0.7545210719108582 \n",
            "epoch: 160  loss: 119.26919556  weight: a=1.1136202812194824,b=1.4403712749481201,c=-0.7487084865570068 \n",
            "epoch: 170  loss: 118.02030945  weight: a=1.113525390625,b=1.4752830266952515,c=-0.7429011464118958 \n",
            "epoch: 180  loss: 116.92653656  weight: a=1.1134305000305176,b=1.5078915357589722,c=-0.7370988726615906 \n",
            "epoch: 190  loss: 115.96804810  weight: a=1.1133358478546143,b=1.5383491516113281,c=-0.7313017845153809 \n",
            "epoch: 200  loss: 115.12764740  weight: a=1.113241195678711,b=1.5667973756790161,c=-0.7255098819732666 \n",
            "epoch: 210  loss: 114.39023590  weight: a=1.1131466627120972,b=1.5933690071105957,c=-0.719723105430603 \n",
            "epoch: 220  loss: 113.74269867  weight: a=1.1130521297454834,b=1.618187665939331,c=-0.7139414548873901 \n",
            "epoch: 230  loss: 113.17356110  weight: a=1.1129577159881592,b=1.6413689851760864,c=-0.7081649899482727 \n",
            "epoch: 240  loss: 112.67285156  weight: a=1.1128634214401245,b=1.6630210876464844,c=-0.7023935914039612 \n",
            "epoch: 250  loss: 112.23182678  weight: a=1.1127692461013794,b=1.6832449436187744,c=-0.6966273784637451 \n",
            "epoch: 260  loss: 111.84287262  weight: a=1.1126750707626343,b=1.7021347284317017,c=-0.690866231918335 \n",
            "epoch: 270  loss: 111.49938202  weight: a=1.1125808954238892,b=1.719778060913086,c=-0.6851102113723755 \n",
            "epoch: 280  loss: 111.19555664  weight: a=1.1124869585037231,b=1.736257553100586,c=-0.6793593168258667 \n",
            "epoch: 290  loss: 110.92631531  weight: a=1.1123930215835571,b=1.7516499757766724,c=-0.6736134886741638 \n",
            "epoch: 300  loss: 110.68728638  weight: a=1.1122992038726807,b=1.7660267353057861,c=-0.6678728461265564 \n",
            "epoch: 310  loss: 110.47460175  weight: a=1.1122055053710938,b=1.779455304145813,c=-0.6621372103691101 \n",
            "epoch: 320  loss: 110.28491211  weight: a=1.1121119260787964,b=1.791998028755188,c=-0.6564067602157593 \n",
            "epoch: 330  loss: 110.11529541  weight: a=1.112018346786499,b=1.8037132024765015,c=-0.6506813168525696 \n",
            "epoch: 340  loss: 109.96320343  weight: a=1.1119247674942017,b=1.8146556615829468,c=-0.6449609994888306 \n",
            "epoch: 350  loss: 109.82638550  weight: a=1.1118314266204834,b=1.8248761892318726,c=-0.6392457485198975 \n",
            "epoch: 360  loss: 109.70291138  weight: a=1.1117380857467651,b=1.8344223499298096,c=-0.633535623550415 \n",
            "epoch: 370  loss: 109.59108734  weight: a=1.1116448640823364,b=1.8433388471603394,c=-0.6278305053710938 \n",
            "epoch: 380  loss: 109.48942566  weight: a=1.1115517616271973,b=1.8516672849655151,c=-0.6221305131912231 \n",
            "epoch: 390  loss: 109.39668274  weight: a=1.111458659172058,b=1.8594461679458618,c=-0.6164355278015137 \n",
            "epoch: 400  loss: 109.31165314  weight: a=1.1113656759262085,b=1.866711974143982,c=-0.6107456088066101 \n",
            "epoch: 410  loss: 109.23340607  weight: a=1.1112726926803589,b=1.8734982013702393,c=-0.6050607562065125 \n",
            "epoch: 420  loss: 109.16109467  weight: a=1.1111798286437988,b=1.8798367977142334,c=-0.5993809700012207 \n",
            "epoch: 430  loss: 109.09394836  weight: a=1.1110872030258179,b=1.8857574462890625,c=-0.5937061905860901 \n",
            "epoch: 440  loss: 109.03129578  weight: a=1.1109944581985474,b=1.8912876844406128,c=-0.5880365371704102 \n",
            "epoch: 450  loss: 108.97258759  weight: a=1.110901951789856,b=1.8964530229568481,c=-0.5823718309402466 \n",
            "epoch: 460  loss: 108.91735077  weight: a=1.1108094453811646,b=1.9012774229049683,c=-0.5767121911048889 \n",
            "epoch: 470  loss: 108.86512756  weight: a=1.1107170581817627,b=1.9057834148406982,c=-0.5710575580596924 \n",
            "epoch: 480  loss: 108.81554413  weight: a=1.1106247901916504,b=1.9099922180175781,c=-0.565407931804657 \n",
            "epoch: 490  loss: 108.76826477  weight: a=1.110532522201538,b=1.9139233827590942,c=-0.5597633719444275 \n",
            "epoch: 500  loss: 108.72300720  weight: a=1.1104403734207153,b=1.9175952672958374,c=-0.5541237592697144 \n",
            "epoch: 510  loss: 108.67953491  weight: a=1.1103482246398926,b=1.9210249185562134,c=-0.5484892725944519 \n",
            "epoch: 520  loss: 108.63760376  weight: a=1.110256314277649,b=1.9242281913757324,c=-0.542859673500061 \n",
            "epoch: 530  loss: 108.59703827  weight: a=1.1101644039154053,b=1.927220344543457,c=-0.5372350811958313 \n",
            "epoch: 540  loss: 108.55765533  weight: a=1.1100724935531616,b=1.9300150871276855,c=-0.5316155552864075 \n",
            "epoch: 550  loss: 108.51931763  weight: a=1.1099807024002075,b=1.9326255321502686,c=-0.5260009765625 \n",
            "epoch: 560  loss: 108.48193359  weight: a=1.109889030456543,b=1.9350637197494507,c=-0.5203914046287537 \n",
            "epoch: 570  loss: 108.44535065  weight: a=1.109797477722168,b=1.9373410940170288,c=-0.5147867798805237 \n",
            "epoch: 580  loss: 108.40946960  weight: a=1.109705924987793,b=1.939468264579773,c=-0.5091871023178101 \n",
            "epoch: 590  loss: 108.37423706  weight: a=1.1096144914627075,b=1.9414550065994263,c=-0.5035924315452576 \n",
            "epoch: 600  loss: 108.33953857  weight: a=1.1095231771469116,b=1.9433106184005737,c=-0.4980027377605438 \n"
          ]
        }
      ]
    },
    {
      "cell_type": "markdown",
      "source": [
        "## Plot the result\n",
        "Now we'll derive <tt>y1</tt> from the new model to plot the most recent best-fit line."
      ],
      "metadata": {
        "id": "bNqCjXFRxsdZ"
      }
    },
    {
      "cell_type": "code",
      "source": [
        "with torch.no_grad():\n",
        "  Y=model(X)\n",
        "\n",
        "plt.scatter(X.numpy(), y.numpy())\n",
        "plt.plot(X,Y,'r')\n",
        "plt.title('Current Model')\n",
        "plt.ylabel('y')\n",
        "plt.xlabel('x');"
      ],
      "metadata": {
        "colab": {
          "base_uri": "https://localhost:8080/",
          "height": 492
        },
        "id": "pbdRTYsRxZSd",
        "outputId": "40d8c99d-c3ee-4bdd-deb9-eb5f4fef6e2e"
      },
      "execution_count": null,
      "outputs": [
        {
          "output_type": "display_data",
          "data": {
            "text/plain": [
              "<Figure size 640x480 with 1 Axes>"
            ],
            "image/png": "[encoded data removed]"
          },
          "metadata": {}
        }
      ]
    },
    {
      "cell_type": "code",
      "source": [
        "e = torch.randint(-5,5,(100,1),dtype=torch.float)\n",
        "y = X**2 + 2*X +5 + e\n",
        "plt.scatter(X.numpy(), y.numpy())\n",
        "plt.ylabel('y')\n",
        "plt.xlabel('x');"
      ],
      "metadata": {
        "colab": {
          "base_uri": "https://localhost:8080/",
          "height": 469
        },
        "id": "49eHpExUxxMz",
        "outputId": "55582157-0ca6-472d-a450-6e2fae48e90d"
      },
      "execution_count": null,
      "outputs": [
        {
          "output_type": "display_data",
          "data": {
            "text/plain": [
              "<Figure size 640x480 with 1 Axes>"
            ],
            "image/png": "[encoded data removed]"
          },
          "metadata": {}
        }
      ]
    },
    {
      "cell_type": "code",
      "source": [
        "model = Model()\n",
        "with torch.no_grad():\n",
        "  Y=model(X)\n",
        "\n",
        "plt.scatter(X.numpy(), y.numpy())\n",
        "plt.plot(X,Y,'r')\n",
        "plt.title('Current Model')\n",
        "plt.ylabel('y')\n",
        "plt.xlabel('x');"
      ],
      "metadata": {
        "colab": {
          "base_uri": "https://localhost:8080/",
          "height": 492
        },
        "id": "S8S7JBm_xzK2",
        "outputId": "04f49179-2dfb-418f-dca4-80ca3dd61429"
      },
      "execution_count": null,
      "outputs": [
        {
          "output_type": "display_data",
          "data": {
            "text/plain": [
              "<Figure size 640x480 with 1 Axes>"
            ],
            "image/png": "[encoded data removed]"
          },
          "metadata": {}
        }
      ]
    },
    {
      "cell_type": "code",
      "source": [
        "optimizer = torch.optim.SGD(model.parameters(), lr = 0.0001)\n",
        "criterion = nn.MSELoss()"
      ],
      "metadata": {
        "id": "DmQEv-pqx4ot"
      },
      "execution_count": null,
      "outputs": []
    },
    {
      "cell_type": "code",
      "source": [
        "epochs = 600\n",
        "losses = []\n",
        "\n",
        "for i in range(epochs):\n",
        "    i+=1\n",
        "    y_pred = model.forward(X)\n",
        "    loss = criterion(y_pred, y)\n",
        "    losses.append(loss.item())\n",
        "    if i% 10 ==0:\n",
        "      print(f'epoch: {i:2}  loss: {loss.item():10.8f}  weight: a={model.a.detach()},b={model.b.detach()},c={model.c.detach()} ')\n",
        "    optimizer.zero_grad()\n",
        "    loss.backward()\n",
        "    optimizer.step()\n",
        "\n"
      ],
      "metadata": {
        "colab": {
          "base_uri": "https://localhost:8080/"
        },
        "id": "iZ-tL3rax5lU",
        "outputId": "f04914b4-8e41-4c72-8911-7ee3013a5ec9"
      },
      "execution_count": null,
      "outputs": [
        {
          "output_type": "stream",
          "name": "stdout",
          "text": [
            "epoch: 10  loss: 59.27014542  weight: a=tensor([1.0494]),b=tensor([0.7693]),c=tensor([0.7704]) \n",
            "epoch: 20  loss: 53.17637634  weight: a=tensor([1.0550]),b=tensor([0.8470]),c=tensor([0.7735]) \n",
            "epoch: 30  loss: 47.91746902  weight: a=tensor([1.0550]),b=tensor([0.9195]),c=tensor([0.7765]) \n",
            "epoch: 40  loss: 43.32836914  weight: a=tensor([1.0549]),b=tensor([0.9873]),c=tensor([0.7795]) \n",
            "epoch: 50  loss: 39.32363892  weight: a=tensor([1.0549]),b=tensor([1.0506]),c=tensor([0.7826]) \n",
            "epoch: 60  loss: 35.82870102  weight: a=tensor([1.0548]),b=tensor([1.1098]),c=tensor([0.7856]) \n",
            "epoch: 70  loss: 32.77852631  weight: a=tensor([1.0548]),b=tensor([1.1650]),c=tensor([0.7886]) \n",
            "epoch: 80  loss: 30.11634827  weight: a=tensor([1.0547]),b=tensor([1.2166]),c=tensor([0.7916]) \n",
            "epoch: 90  loss: 27.79269600  weight: a=tensor([1.0547]),b=tensor([1.2648]),c=tensor([0.7946]) \n",
            "epoch: 100  loss: 25.76436615  weight: a=tensor([1.0546]),b=tensor([1.3098]),c=tensor([0.7976]) \n",
            "epoch: 110  loss: 23.99367714  weight: a=tensor([1.0546]),b=tensor([1.3518]),c=tensor([0.8007]) \n",
            "epoch: 120  loss: 22.44776535  weight: a=tensor([1.0545]),b=tensor([1.3911]),c=tensor([0.8037]) \n",
            "epoch: 130  loss: 21.09796143  weight: a=tensor([1.0545]),b=tensor([1.4277]),c=tensor([0.8067]) \n",
            "epoch: 140  loss: 19.91923141  weight: a=tensor([1.0544]),b=tensor([1.4620]),c=tensor([0.8097]) \n",
            "epoch: 150  loss: 18.88976097  weight: a=tensor([1.0544]),b=tensor([1.4940]),c=tensor([0.8127]) \n",
            "epoch: 160  loss: 17.99050522  weight: a=tensor([1.0543]),b=tensor([1.5239]),c=tensor([0.8157]) \n",
            "epoch: 170  loss: 17.20485497  weight: a=tensor([1.0543]),b=tensor([1.5518]),c=tensor([0.8186]) \n",
            "epoch: 180  loss: 16.51831055  weight: a=tensor([1.0542]),b=tensor([1.5778]),c=tensor([0.8216]) \n",
            "epoch: 190  loss: 15.91823769  weight: a=tensor([1.0542]),b=tensor([1.6022]),c=tensor([0.8246]) \n",
            "epoch: 200  loss: 15.39360332  weight: a=tensor([1.0541]),b=tensor([1.6249]),c=tensor([0.8276]) \n",
            "epoch: 210  loss: 14.93478394  weight: a=tensor([1.0541]),b=tensor([1.6462]),c=tensor([0.8306]) \n",
            "epoch: 220  loss: 14.53338337  weight: a=tensor([1.0540]),b=tensor([1.6660]),c=tensor([0.8336]) \n",
            "epoch: 230  loss: 14.18208218  weight: a=tensor([1.0540]),b=tensor([1.6845]),c=tensor([0.8365]) \n",
            "epoch: 240  loss: 13.87448597  weight: a=tensor([1.0539]),b=tensor([1.7019]),c=tensor([0.8395]) \n",
            "epoch: 250  loss: 13.60502243  weight: a=tensor([1.0539]),b=tensor([1.7180]),c=tensor([0.8425]) \n",
            "epoch: 260  loss: 13.36882782  weight: a=tensor([1.0538]),b=tensor([1.7331]),c=tensor([0.8455]) \n",
            "epoch: 270  loss: 13.16166306  weight: a=tensor([1.0538]),b=tensor([1.7472]),c=tensor([0.8484]) \n",
            "epoch: 280  loss: 12.97981930  weight: a=tensor([1.0537]),b=tensor([1.7604]),c=tensor([0.8514]) \n",
            "epoch: 290  loss: 12.82007313  weight: a=tensor([1.0537]),b=tensor([1.7727]),c=tensor([0.8544]) \n",
            "epoch: 300  loss: 12.67960072  weight: a=tensor([1.0536]),b=tensor([1.7842]),c=tensor([0.8573]) \n",
            "epoch: 310  loss: 12.55594826  weight: a=tensor([1.0536]),b=tensor([1.7949]),c=tensor([0.8603]) \n",
            "epoch: 320  loss: 12.44697762  weight: a=tensor([1.0536]),b=tensor([1.8050]),c=tensor([0.8632]) \n",
            "epoch: 330  loss: 12.35081100  weight: a=tensor([1.0535]),b=tensor([1.8143]),c=tensor([0.8662]) \n",
            "epoch: 340  loss: 12.26582146  weight: a=tensor([1.0535]),b=tensor([1.8231]),c=tensor([0.8691]) \n",
            "epoch: 350  loss: 12.19057751  weight: a=tensor([1.0534]),b=tensor([1.8313]),c=tensor([0.8721]) \n",
            "epoch: 360  loss: 12.12384987  weight: a=tensor([1.0534]),b=tensor([1.8389]),c=tensor([0.8750]) \n",
            "epoch: 370  loss: 12.06453896  weight: a=tensor([1.0533]),b=tensor([1.8460]),c=tensor([0.8779]) \n",
            "epoch: 380  loss: 12.01170731  weight: a=tensor([1.0533]),b=tensor([1.8527]),c=tensor([0.8809]) \n",
            "epoch: 390  loss: 11.96453762  weight: a=tensor([1.0532]),b=tensor([1.8589]),c=tensor([0.8838]) \n",
            "epoch: 400  loss: 11.92229462  weight: a=tensor([1.0532]),b=tensor([1.8647]),c=tensor([0.8867]) \n",
            "epoch: 410  loss: 11.88436413  weight: a=tensor([1.0531]),b=tensor([1.8701]),c=tensor([0.8897]) \n",
            "epoch: 420  loss: 11.85019207  weight: a=tensor([1.0531]),b=tensor([1.8752]),c=tensor([0.8926]) \n",
            "epoch: 430  loss: 11.81930065  weight: a=tensor([1.0530]),b=tensor([1.8799]),c=tensor([0.8955]) \n",
            "epoch: 440  loss: 11.79127789  weight: a=tensor([1.0530]),b=tensor([1.8844]),c=tensor([0.8984]) \n",
            "epoch: 450  loss: 11.76575470  weight: a=tensor([1.0529]),b=tensor([1.8885]),c=tensor([0.9014]) \n",
            "epoch: 460  loss: 11.74241352  weight: a=tensor([1.0529]),b=tensor([1.8923]),c=tensor([0.9043]) \n",
            "epoch: 470  loss: 11.72098160  weight: a=tensor([1.0528]),b=tensor([1.8959]),c=tensor([0.9072]) \n",
            "epoch: 480  loss: 11.70121956  weight: a=tensor([1.0528]),b=tensor([1.8993]),c=tensor([0.9101]) \n",
            "epoch: 490  loss: 11.68290901  weight: a=tensor([1.0527]),b=tensor([1.9025]),c=tensor([0.9130]) \n",
            "epoch: 500  loss: 11.66586876  weight: a=tensor([1.0527]),b=tensor([1.9054]),c=tensor([0.9159]) \n",
            "epoch: 510  loss: 11.64994526  weight: a=tensor([1.0526]),b=tensor([1.9081]),c=tensor([0.9188]) \n",
            "epoch: 520  loss: 11.63498497  weight: a=tensor([1.0526]),b=tensor([1.9107]),c=tensor([0.9217]) \n",
            "epoch: 530  loss: 11.62087917  weight: a=tensor([1.0525]),b=tensor([1.9131]),c=tensor([0.9246]) \n",
            "epoch: 540  loss: 11.60751629  weight: a=tensor([1.0525]),b=tensor([1.9153]),c=tensor([0.9275]) \n",
            "epoch: 550  loss: 11.59479713  weight: a=tensor([1.0525]),b=tensor([1.9174]),c=tensor([0.9304]) \n",
            "epoch: 560  loss: 11.58265305  weight: a=tensor([1.0524]),b=tensor([1.9194]),c=tensor([0.9333]) \n",
            "epoch: 570  loss: 11.57100868  weight: a=tensor([1.0524]),b=tensor([1.9212]),c=tensor([0.9362]) \n",
            "epoch: 580  loss: 11.55980015  weight: a=tensor([1.0523]),b=tensor([1.9229]),c=tensor([0.9391]) \n",
            "epoch: 590  loss: 11.54897118  weight: a=tensor([1.0523]),b=tensor([1.9245]),c=tensor([0.9420]) \n",
            "epoch: 600  loss: 11.53847408  weight: a=tensor([1.0522]),b=tensor([1.9259]),c=tensor([0.9448]) \n"
          ]
        }
      ]
    },
    {
      "cell_type": "code",
      "source": [
        "with torch.no_grad():\n",
        "  Y=model(X)\n",
        "\n",
        "plt.scatter(X.numpy(), y.numpy())\n",
        "plt.plot(X,Y,'r')\n",
        "plt.title('Current Model')\n",
        "plt.ylabel('y')\n",
        "plt.xlabel('x');\n"
      ],
      "metadata": {
        "colab": {
          "base_uri": "https://localhost:8080/",
          "height": 492
        },
        "id": "BnBe9qXex8ab",
        "outputId": "fb64c10d-2cbc-4199-a4bc-ab3e7376129f"
      },
      "execution_count": null,
      "outputs": [
        {
          "output_type": "display_data",
          "data": {
            "text/plain": [
              "<Figure size 640x480 with 1 Axes>"
            ],
            "image/png": "[encoded data removed]"
          },
          "metadata": {}
        }
      ]
    },
    {
      "cell_type": "markdown",
      "source": [
        "### MNIST Classification"
      ],
      "metadata": {
        "id": "ZOxpY9VYNkV_"
      }
    },
    {
      "cell_type": "code",
      "source": [
        "import pickle, gzip, math, torch, matplotlib as mpl\n",
        "import time\n",
        "import matplotlib.pyplot as plt\n",
        "import numpy as np\n",
        "import torch.nn.functional as F\n",
        "from torch import tensor\n",
        "from torchvision import datasets, transforms\n",
        "from torch import nn\n",
        "import torch.optim as optim\n"
      ],
      "metadata": {
        "id": "zD-KcjrXMVPk"
      },
      "execution_count": null,
      "outputs": []
    },
    {
      "cell_type": "code",
      "source": [
        "device = torch.device(\"cuda:0\" if torch.cuda.is_available() else \"cpu\")\n",
        "print(device)"
      ],
      "metadata": {
        "colab": {
          "base_uri": "https://localhost:8080/"
        },
        "id": "C9T3cJOQNrx-",
        "outputId": "3d8e51b9-ad76-4337-acd2-cd127afc2f3e"
      },
      "execution_count": null,
      "outputs": [
        {
          "output_type": "stream",
          "name": "stdout",
          "text": [
            "cpu\n"
          ]
        }
      ]
    },
    {
      "cell_type": "code",
      "source": [
        "train_dataset = datasets.MNIST('data', train=True, download=True,)\n",
        "test_dataset = datasets.MNIST('data', train=False, download=True,)"
      ],
      "metadata": {
        "id": "q3gSNdlcNyD-"
      },
      "execution_count": null,
      "outputs": []
    },
    {
      "cell_type": "code",
      "source": [
        "def clean_dataset(dataset):\n",
        "  t=transforms.ToTensor()\n",
        "  img_list=[]\n",
        "  lbl_list=[]\n",
        "  for item in dataset:\n",
        "    img=t(item[0]).reshape(-1)\n",
        "    label=item[1]\n",
        "    img_list.append(img)\n",
        "    lbl_list.append(label)\n",
        "  return torch.stack(img_list, dim=0),torch.tensor(lbl_list)\n"
      ],
      "metadata": {
        "id": "h_c4VjMwRwev"
      },
      "execution_count": null,
      "outputs": []
    },
    {
      "cell_type": "code",
      "source": [
        "train_dataset[0]"
      ],
      "metadata": {
        "colab": {
          "base_uri": "https://localhost:8080/"
        },
        "id": "N5Pk3wG9uGLt",
        "outputId": "fc868f5c-7672-4598-e2b3-4fa2c0ffafa3"
      },
      "execution_count": null,
      "outputs": [
        {
          "output_type": "execute_result",
          "data": {
            "text/plain": [
              "(<PIL.Image.Image image mode=L size=28x28>, 5)"
            ]
          },
          "metadata": {},
          "execution_count": 89
        }
      ]
    },
    {
      "cell_type": "code",
      "source": [
        "train_dataset[1]"
      ],
      "metadata": {
        "colab": {
          "base_uri": "https://localhost:8080/"
        },
        "id": "WzyeczUQujvw",
        "outputId": "f6c0aaf7-82a7-42e6-a4bf-986b8498d212"
      },
      "execution_count": null,
      "outputs": [
        {
          "output_type": "execute_result",
          "data": {
            "text/plain": [
              "(<PIL.Image.Image image mode=L size=28x28>, 0)"
            ]
          },
          "metadata": {},
          "execution_count": 90
        }
      ]
    },
    {
      "cell_type": "code",
      "source": [
        "train_X,train_y=clean_dataset(train_dataset)\n",
        "test_X,test_y=clean_dataset(test_dataset)"
      ],
      "metadata": {
        "id": "DYFunuhCN6so"
      },
      "execution_count": null,
      "outputs": []
    },
    {
      "cell_type": "code",
      "source": [
        "print(train_X.shape,train_y.shape)\n",
        "print(test_X.shape,test_y.shape)"
      ],
      "metadata": {
        "colab": {
          "base_uri": "https://localhost:8080/"
        },
        "id": "0mgz5dV9RBwL",
        "outputId": "5eda04f3-325e-48db-d5ab-8110d7b4b35b"
      },
      "execution_count": null,
      "outputs": [
        {
          "output_type": "stream",
          "name": "stdout",
          "text": [
            "torch.Size([60000, 784]) torch.Size([60000])\n",
            "torch.Size([10000, 784]) torch.Size([10000])\n"
          ]
        }
      ]
    },
    {
      "cell_type": "code",
      "source": [
        "from PIL import Image\n",
        "import matplotlib.pyplot as plt\n",
        "print(train_y[40000])\n",
        "_ = plt.imshow(train_X[40000].view(28,28), cmap='gray')"
      ],
      "metadata": {
        "colab": {
          "base_uri": "https://localhost:8080/",
          "height": 467
        },
        "id": "s7xTPzegS4KR",
        "outputId": "4080c35b-50d7-4c45-db57-e4c36c56e3fc"
      },
      "execution_count": null,
      "outputs": [
        {
          "output_type": "stream",
          "name": "stdout",
          "text": [
            "tensor(7)\n"
          ]
        },
        {
          "output_type": "display_data",
          "data": {
            "text/plain": [
              "<Figure size 640x480 with 1 Axes>"
            ],
            "image/png": "[encoded data removed]"
          },
          "metadata": {}
        }
      ]
    },
    {
      "cell_type": "code",
      "source": [
        "class Net(nn.Module):\n",
        "    def __init__(self):\n",
        "        super(Net, self).__init__()\n",
        "        self.fc1 = nn.Linear(28*28, 50)\n",
        "        self.fc1_drop = nn.Dropout(0.2)\n",
        "        self.fc2 = nn.Linear(50, 10)\n",
        "    def forward(self, x):\n",
        "        x = F.relu(self.fc1(x))\n",
        "        x = self.fc1_drop(x)\n",
        "        x = self.fc2(x)\n",
        "        return x"
      ],
      "metadata": {
        "id": "nYKCcokVTN6M"
      },
      "execution_count": null,
      "outputs": []
    },
    {
      "cell_type": "code",
      "source": [
        "model_linear = Net()\n",
        "opt = optim.SGD(model_linear.parameters(), lr=0.01)\n",
        "loss_func = F.cross_entropy\n",
        "epochs = 10\n",
        "batch_size = 8\n",
        "num_rows= train_X.shape[0]\n",
        "losses=[]\n",
        "for epoch in range(epochs):\n",
        "    print(\"starting \")\n",
        "    running_loss = 0.0\n",
        "    for i in range((num_rows-1)//batch_size + 1):\n",
        "        start_i = i * batch_size\n",
        "        end_i = start_i + batch_size\n",
        "        xb = train_X[start_i:end_i]\n",
        "        yb = train_y[start_i:end_i]\n",
        "        pred = model_linear(xb)\n",
        "        loss = loss_func(pred, yb)\n",
        "        running_loss += loss.item()\n",
        "        loss.backward()\n",
        "        opt.step() # Updating weights.\n",
        "        opt.zero_grad()\n",
        "\n",
        "    print(f'epoch: {epoch:2}  loss: {running_loss/(num_rows/batch_size):10.8f}')"
      ],
      "metadata": {
        "colab": {
          "base_uri": "https://localhost:8080/"
        },
        "id": "ejI9rCYqUJMf",
        "outputId": "cd9f3b13-519c-4880-d2a5-6498b6d4dd26"
      },
      "execution_count": null,
      "outputs": [
        {
          "output_type": "stream",
          "name": "stdout",
          "text": [
            "starting \n",
            "epoch:  0  loss: 0.57197679\n",
            "starting \n",
            "epoch:  1  loss: 0.30536814\n",
            "starting \n",
            "epoch:  2  loss: 0.25641196\n",
            "starting \n",
            "epoch:  3  loss: 0.22522467\n",
            "starting \n",
            "epoch:  4  loss: 0.20294316\n",
            "starting \n",
            "epoch:  5  loss: 0.19136475\n",
            "starting \n",
            "epoch:  6  loss: 0.17476559\n",
            "starting \n",
            "epoch:  7  loss: 0.16829349\n",
            "starting \n",
            "epoch:  8  loss: 0.15821116\n",
            "starting \n",
            "epoch:  9  loss: 0.15166906\n"
          ]
        }
      ]
    },
    {
      "cell_type": "code",
      "source": [
        "def accuracy(out, y_batch):\n",
        "    return (torch.argmax(out, dim=1)==y_batch).float().mean()"
      ],
      "metadata": {
        "id": "8s1bT_lGVaLA"
      },
      "execution_count": null,
      "outputs": []
    },
    {
      "cell_type": "code",
      "source": [
        "with torch.no_grad():\n",
        "  model_linear.eval()\n",
        "  test_acc=accuracy(model_linear(test_X), test_y)\n",
        "  model_linear.train()"
      ],
      "metadata": {
        "id": "BCR8v00HVz6I"
      },
      "execution_count": null,
      "outputs": []
    },
    {
      "cell_type": "code",
      "source": [
        "test_acc"
      ],
      "metadata": {
        "colab": {
          "base_uri": "https://localhost:8080/"
        },
        "id": "aTrjNN76V9oa",
        "outputId": "bb534d69-1b15-4b88-ed73-7300789baf43"
      },
      "execution_count": null,
      "outputs": [
        {
          "output_type": "execute_result",
          "data": {
            "text/plain": [
              "tensor(0.9674)"
            ]
          },
          "metadata": {},
          "execution_count": 104
        }
      ]
    },
    {
      "cell_type": "code",
      "source": [
        "test_idx=120\n",
        "\n",
        "_ = plt.imshow(test_X[test_idx].view(28,28), cmap='gray')\n",
        "with torch.no_grad():\n",
        "  model_linear.eval()\n",
        "  pred=model_linear(test_X[test_idx])\n",
        "  model_linear.train()\n",
        "print(f\"label:{test_y[test_idx]},pred:{torch.argmax(pred)}\")"
      ],
      "metadata": {
        "colab": {
          "base_uri": "https://localhost:8080/",
          "height": 467
        },
        "id": "wncJHq3XWBf-",
        "outputId": "eef24d7f-c88d-4b2c-eb4c-0141fd01fd67"
      },
      "execution_count": null,
      "outputs": [
        {
          "output_type": "stream",
          "name": "stdout",
          "text": [
            "label:5,pred:5\n"
          ]
        },
        {
          "output_type": "display_data",
          "data": {
            "text/plain": [
              "<Figure size 640x480 with 1 Axes>"
            ],
            "image/png": "[encoded data removed]"
          },
          "metadata": {}
        }
      ]
    },
    {
      "cell_type": "code",
      "source": [],
      "metadata": {
        "colab": {
          "base_uri": "https://localhost:8080/"
        },
        "id": "he0R2JuKWgCU",
        "outputId": "1fafd593-1e84-49c3-b050-7178415569b7"
      },
      "execution_count": null,
      "outputs": [
        {
          "output_type": "stream",
          "name": "stdout",
          "text": [
            "tensor(2)\n"
          ]
        }
      ]
    },
    {
      "cell_type": "code",
      "source": [],
      "metadata": {
        "id": "vxVvBbPJWvGC"
      },
      "execution_count": null,
      "outputs": []
    }
  ]
}