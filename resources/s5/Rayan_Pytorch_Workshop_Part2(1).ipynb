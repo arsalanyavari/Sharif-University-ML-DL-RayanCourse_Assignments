{
  "cells": [
    {
      "cell_type": "markdown",
      "metadata": {
        "id": "26MNTzrN2ycR"
      },
      "source": [
        "# **Rayan International AI Contest**\n",
        "\n",
        "<font color='white' style='font-family: \"Times New Roman\", Times, serif; font-size: 24px;'><strong>Machine Learning & Deep Learning Course</strong></font>\n",
        "\n",
        "<font color='white' style='font-family: \"Times New Roman\", Times, serif; font-size: 20px;'><em>**Title**: Pytorch workshop || **Part**: 2</em></font>\n",
        "<br><br>\n",
        "<font color='white' size=1>Copyright 2019. Created by Jose Marcial Portilla.</font>"
      ]
    },
    {
      "cell_type": "markdown",
      "metadata": {
        "collapsed": true,
        "id": "xxAqo_0_2ycV"
      },
      "source": [
        "# Loading Real Image Data\n",
        "Let's learn the real deal, and work from a varied collection of .jpg files.\n",
        "\n",
        "For this section we'll be working with a version of the Cats vs. Dogs dataset inspired by a classic <a href='https://www.kaggle.com/c/dogs-vs-cats'>Kaggle competition</a>.<br>\n",
        "A quick note - do <strong>not</strong> download the dataset from Kaggle! Ours is a cleaned version of the data without any 0by0 files, etc.<br>The images are similar to ones available from the <a href='http://www.image-net.org/'>ImageNet</a> database.\n",
        "\n",
        "We have organized the files into train and test folders, and further divided the images into CAT and DOG subfolders. In this way the file path contains the label."
      ]
    },
    {
      "cell_type": "markdown",
      "metadata": {
        "id": "EGjhQTPR2ycX"
      },
      "source": [
        "### Image files directory tree\n",
        "<pre>.\n",
        "└── Data\n",
        "    └── CATS_DOGS\n",
        "        ├── test\n",
        "        │   ├── CAT\n",
        "        │   │   ├── 9374.jpg\n",
        "        │   │   ├── 9375.jpg\n",
        "        │   │   └── ... (3,126 files)\n",
        "        │   └── DOG\n",
        "        │       ├── 9374.jpg\n",
        "        │       ├── 9375.jpg\n",
        "        │       └── ... (3,125 files)       \n",
        "        │           \n",
        "        └── train\n",
        "            ├── CAT\n",
        "            │   ├── 0.jpg\n",
        "            │   ├── 1.jpg\n",
        "            │   └── ... (9,371 files)\n",
        "            └── DOG\n",
        "                ├── 0.jpg\n",
        "                ├── 1.jpg\n",
        "                └── ... (9,372 files)</pre>"
      ]
    },
    {
      "cell_type": "markdown",
      "metadata": {
        "id": "K9wRuTC92ycZ"
      },
      "source": [
        "## Perform standard imports"
      ]
    },
    {
      "cell_type": "code",
      "execution_count": 39,
      "metadata": {
        "collapsed": true,
        "id": "2-3WUfEG2yca"
      },
      "outputs": [],
      "source": [
        "import torch\n",
        "import torch.nn as nn\n",
        "import torch.nn.functional as F\n",
        "from torch.utils.data import DataLoader\n",
        "from torchvision import datasets, transforms\n",
        "import gzip\n",
        "from torchvision.utils import make_grid\n",
        "\n",
        "import pickle\n",
        "import numpy as np\n",
        "import pandas as pd\n",
        "from torch.utils.data import Dataset, DataLoader\n",
        "import matplotlib.pyplot as plt\n",
        "%matplotlib inline"
      ]
    },
    {
      "cell_type": "markdown",
      "metadata": {
        "id": "whD_mkCA2ycc"
      },
      "source": [
        "## Examine the data\n",
        "We'll us Python's built-in <a href='https://docs.python.org/3/library/os.html'>os module</a> to walk the directories collecting file names. We'll then use <a href='https://python-pillow.org/'>Pillow</a>, an extension to the Python Imaging Library (PIL), to open image files and extract image sizes. A pandas DataFrame will provide summary statistics on our data like max/min width & height from which we can choose our model parameters."
      ]
    },
    {
      "cell_type": "code",
      "execution_count": 2,
      "metadata": {
        "collapsed": true,
        "id": "PQ59gUQ12ycd"
      },
      "outputs": [],
      "source": [
        "import os\n",
        "from PIL import Image\n",
        "from IPython.display import display\n",
        "\n",
        "# Filter harmless warnings\n",
        "import warnings\n",
        "warnings.filterwarnings(\"ignore\")"
      ]
    },
    {
      "cell_type": "code",
      "execution_count": 3,
      "metadata": {
        "colab": {
          "base_uri": "https://localhost:8080/"
        },
        "id": "NHiXsl023wuu",
        "outputId": "ce47b715-3266-44b6-b63d-8ee6b5b85f15"
      },
      "outputs": [
        {
          "output_type": "stream",
          "name": "stdout",
          "text": [
            "Downloading...\n",
            "From (original): https://drive.google.com/uc?id=10U7XfgoKsSs3kby1n6xAXWEUjnVrQr7B\n",
            "From (redirected): https://drive.google.com/uc?id=10U7XfgoKsSs3kby1n6xAXWEUjnVrQr7B&confirm=t&uuid=2cb308b5-9159-46ab-aca5-f0a59c4d2871\n",
            "To: /content/FashionMNIST.zip\n",
            "100% 56.1M/56.1M [00:01<00:00, 31.9MB/s]\n"
          ]
        }
      ],
      "source": [
        "!gdown 10U7XfgoKsSs3kby1n6xAXWEUjnVrQr7B"
      ]
    },
    {
      "cell_type": "code",
      "execution_count": 4,
      "metadata": {
        "id": "eg7l_RFn4EHr"
      },
      "outputs": [],
      "source": [
        "!unzip -q FashionMNIST.zip"
      ]
    },
    {
      "cell_type": "code",
      "execution_count": 6,
      "metadata": {
        "colab": {
          "base_uri": "https://localhost:8080/",
          "height": 65
        },
        "id": "pTwCqkAr2ycf",
        "outputId": "2b14ac5b-d833-44d0-8077-28a9f2ad2d64"
      },
      "outputs": [
        {
          "output_type": "display_data",
          "data": {
            "text/plain": [
              "<PIL.JpegImagePlugin.JpegImageFile image mode=L size=28x28>"
            ],
            "image/png": "[encoded data removed]"
          },
          "metadata": {}
        }
      ],
      "source": [
        "# TEST YOUR VERSION OF PILLOW\n",
        "with Image.open('FashionMNIST/train/Bag/100.jpg') as im:\n",
        "    display(im)"
      ]
    },
    {
      "cell_type": "markdown",
      "metadata": {
        "id": "KpPZKIr12yci"
      },
      "source": [
        "### Create a list of image filenames"
      ]
    },
    {
      "cell_type": "code",
      "execution_count": 7,
      "metadata": {
        "colab": {
          "base_uri": "https://localhost:8080/"
        },
        "id": "-WGA57WX2ycj",
        "outputId": "bf8969de-c63f-4616-d348-e89db6521306"
      },
      "outputs": [
        {
          "output_type": "stream",
          "name": "stdout",
          "text": [
            "Images:  70000\n"
          ]
        }
      ],
      "source": [
        "path = 'FashionMNIST'\n",
        "img_names = []\n",
        "\n",
        "for folder, subfolders, filenames in os.walk(path):\n",
        "    for img in filenames:\n",
        "        img_names.append(folder+'/'+img)\n",
        "\n",
        "print('Images: ',len(img_names))"
      ]
    },
    {
      "cell_type": "markdown",
      "metadata": {
        "id": "RbIrAvwb2ycl"
      },
      "source": [
        "### Create a DataFrame of image sizes (width x height)\n",
        "It's worth noting that <tt>Image.open()</tt> doesn't read the entire image into memory, so it's a reasonable way to get image sizes.<br>\n",
        "Still, this can take awhile."
      ]
    },
    {
      "cell_type": "markdown",
      "metadata": {
        "id": "UbKo9vCn2ycp"
      },
      "source": [
        "## Image Preprocessing\n",
        "Any network we define requires consistent input data. That is, the incoming image files need to have the same number of channels (3 for red/green/blue), the same depth per channel (0-255), and the same height and width. This last requirement can be tricky. How do we transform an 800x450 pixel image into one that is 224x224?\n",
        "* <a href='https://en.wikipedia.org/wiki/Aspect_ratio_(image)'><strong>aspect ratio</strong></a>: the ratio of width to height (16:9, 1:1, etc.) An 800x450 pixel image has an aspect ration of 16:9. We can change the aspect ratio of an image by cropping it, by stretching/squeezing it, or by some combination of the two. In both cases we lose some information contained in the original. Let's say we crop 175 pixels from the left and right sides of our 800x450 image, resulting in one that's 450x450.\n",
        "* <strong>scale</strong>: Once we've attained the proper aspect ratio we may need to scale an image up or down to fit our input parameters. There are several libraries we can use to scale a 450x450 image down to 224x224 with minimal loss.\n",
        "* <a href=''><strong>normalization</strong></a>: when images are converted to tensors, the [0,255] rgb channels are loaded into range [0,1]. We can then normalize them using the generally accepted values of mean=[0.485, 0.456, 0.406] and std=[0.229, 0.224, 0.225]. For the curious, these values were obtained by the PyTorch team using a random 10,000 sample of <a href='http://www.image-net.org/'>ImageNet</a> images. There's a good discussion of this <a href='https://discuss.pytorch.org/t/normalization-in-the-mnist-example/457/22'>here</a>, and the original source code can be found <a href='https://github.com/soumith/imagenet-multiGPU.torch/blob/master/donkey.lua#L154'>here</a>."
      ]
    },
    {
      "cell_type": "markdown",
      "metadata": {
        "id": "eXJufg6o2ycp"
      },
      "source": [
        "## Transformations\n",
        "Before defining our Convolutional Network, let's look at a sample image and perform various transformations on it to see their effect."
      ]
    },
    {
      "cell_type": "code",
      "execution_count": 10,
      "metadata": {
        "colab": {
          "base_uri": "https://localhost:8080/",
          "height": 82
        },
        "id": "C0i8Y0tK2ycq",
        "outputId": "a63647dd-62cf-4b29-bc44-650379004caa"
      },
      "outputs": [
        {
          "output_type": "stream",
          "name": "stdout",
          "text": [
            "(28, 28)\n"
          ]
        },
        {
          "output_type": "display_data",
          "data": {
            "text/plain": [
              "<PIL.JpegImagePlugin.JpegImageFile image mode=L size=28x28>"
            ],
            "image/png": "[encoded data removed]"
          },
          "metadata": {}
        }
      ],
      "source": [
        "bag = Image.open('FashionMNIST/train/Bag/100.jpg')\n",
        "print(bag.size)\n",
        "display(bag)"
      ]
    },
    {
      "cell_type": "markdown",
      "metadata": {
        "id": "Le4KwhnL2ycq"
      },
      "source": [
        "This is how jupyter displays the original .jpg image. Note that size is given as (width, height).<br>\n",
        "Let's look at a single pixel:"
      ]
    },
    {
      "cell_type": "code",
      "execution_count": 12,
      "metadata": {
        "colab": {
          "base_uri": "https://localhost:8080/"
        },
        "id": "jAI4izsU2ycq",
        "outputId": "406a1acb-ed82-4fea-ba74-b20675ae5365"
      },
      "outputs": [
        {
          "output_type": "stream",
          "name": "stdout",
          "text": [
            "6\n"
          ]
        }
      ],
      "source": [
        "grey_val= bag.getpixel((0, 0))\n",
        "print(grey_val)"
      ]
    },
    {
      "cell_type": "markdown",
      "metadata": {
        "id": "9riXDzfc2ycq"
      },
      "source": [
        "The pixel at position [0,0] (upper left) of the source image has an rgb value of (90,95,98). This corresponds to <font style=\"background-color:rgb(90,95,98)\">this color </font><br>\n",
        "Great! Now let's look at some specific transformations.\n",
        "### <a href='https://pytorch.org/docs/stable/torchvision/transforms.html#torchvision.transforms.ToTensor'><tt>transforms.ToTensor()</tt></a>\n",
        "Converts a PIL Image or numpy.ndarray (HxWxC) in the range [0, 255] to a <tt>torch.FloatTensor</tt> of shape (CxHxW) in the range [0.0, 1.0]"
      ]
    },
    {
      "cell_type": "code",
      "execution_count": 14,
      "metadata": {
        "colab": {
          "base_uri": "https://localhost:8080/",
          "height": 467
        },
        "id": "YBJDz4l52ycr",
        "outputId": "c4c3b20d-0b81-4015-83f6-e009afc57113"
      },
      "outputs": [
        {
          "output_type": "stream",
          "name": "stdout",
          "text": [
            "torch.Size([1, 28, 28])\n"
          ]
        },
        {
          "output_type": "display_data",
          "data": {
            "text/plain": [
              "<Figure size 640x480 with 1 Axes>"
            ],
            "image/png": "[encoded data removed]"
          },
          "metadata": {}
        }
      ],
      "source": [
        "transform = transforms.Compose([\n",
        "    transforms.ToTensor()\n",
        "])\n",
        "im = transform(bag)\n",
        "print(im.shape)\n",
        "plt.imshow(np.transpose(im.numpy(), (1, 2, 0)));"
      ]
    },
    {
      "cell_type": "markdown",
      "metadata": {
        "id": "7pHM5V_Y2yct"
      },
      "source": [
        "This is the same image converted to a tensor and displayed using matplotlib. Note that the torch dimensions follow [channel, height, width]<br><br>\n",
        "PyTorch automatically loads the [0,255] pixel channels to [0,1]:<br><br>\n",
        "$\\frac{90}{255}=0.3529\\quad\\frac{95}{255}=0.3725\\quad\\frac{98}{255}=0.3843$"
      ]
    },
    {
      "cell_type": "code",
      "execution_count": 15,
      "metadata": {
        "colab": {
          "base_uri": "https://localhost:8080/"
        },
        "id": "mgYXTUq_3nab",
        "outputId": "98e300ca-2c0c-4453-e624-2e5a0d76158b"
      },
      "outputs": [
        {
          "output_type": "execute_result",
          "data": {
            "text/plain": [
              "tensor(0.0235)"
            ]
          },
          "metadata": {},
          "execution_count": 15
        }
      ],
      "source": [
        "im[0,0,0]"
      ]
    },
    {
      "cell_type": "markdown",
      "metadata": {
        "id": "Aa5-dHzc2yct"
      },
      "source": [
        "### <a href='https://pytorch.org/docs/stable/torchvision/transforms.html#torchvision.transforms.Resize'><tt>transforms.Resize(<em>size</em>)</tt></a>\n",
        "If size is a sequence like (h, w), the output size will be matched to this. If size is an integer, the smaller edge of the image will be matched to this number.<br>i.e, if height > width, then the image will be rescaled to (size * height / width, size)"
      ]
    },
    {
      "cell_type": "markdown",
      "metadata": {
        "id": "Kbdgk_S72ycu"
      },
      "source": [
        "This resized the shortest side, and scaled the other. Let's try this on a small image."
      ]
    },
    {
      "cell_type": "markdown",
      "metadata": {
        "id": "pM5xEFRl2ycx"
      },
      "source": [
        "### <a href='https://pytorch.org/docs/stable/torchvision/transforms.html#torchvision.transforms.CenterCrop'><tt>transforms.CenterCrop(<em>size</em>)</tt></a>\n",
        "If size is an integer instead of sequence like (h, w), a square crop of (size, size) is made."
      ]
    },
    {
      "cell_type": "markdown",
      "metadata": {
        "id": "9b0I-v8x2ycz"
      },
      "source": [
        "It may be better to resize the image first, then crop:"
      ]
    },
    {
      "cell_type": "markdown",
      "metadata": {
        "id": "wiA6tDa12yc1"
      },
      "source": [
        "## Other affine transformations\n",
        "An <a href='https://en.wikipedia.org/wiki/Affine_transformation'><em>affine</em></a> transformation is one that preserves points and straight lines. Examples include rotation, reflection, and scaling. For instance, we can double the effective size of our training set simply by flipping the images.\n",
        "### <a href='https://pytorch.org/docs/stable/torchvision/transforms.html#torchvision.transforms.RandomHorizontalFlip'><tt>transforms.RandomHorizontalFlip(<em>p=0.5</em>)</tt></a>\n",
        "Horizontally flip the given PIL image randomly with a given probability."
      ]
    },
    {
      "cell_type": "markdown",
      "metadata": {
        "id": "LqIKcIIw2yc2"
      },
      "source": [
        "### <a href='https://pytorch.org/docs/stable/torchvision/transforms.html#torchvision.transforms.RandomRotation'><tt>transforms.RandomRotation(<em>degrees</em>)</tt></a>\n",
        "If degrees is a number instead of sequence like (min, max), the range of degrees will be (-degrees, +degrees).<br>\n",
        "Run the cell below several times to see a sample of rotations."
      ]
    },
    {
      "cell_type": "markdown",
      "metadata": {
        "id": "tY521lSU2yc3"
      },
      "source": [
        "### Scaling is done using <a href='https://pytorch.org/docs/stable/torchvision/transforms.html#torchvision.transforms.Resize'><tt>transforms.Resize(<em>size</em>)</tt></a>"
      ]
    },
    {
      "cell_type": "markdown",
      "metadata": {
        "id": "Idhhk7GL2yc3"
      },
      "source": [
        "## Let's put it all together"
      ]
    },
    {
      "cell_type": "markdown",
      "metadata": {
        "id": "RGQdz4_W2yc5"
      },
      "source": [
        "___\n",
        "## Normalization\n",
        "Once the image has been loaded into a tensor, we can perform normalization on it. This serves to make convergence happen quicker during training. The values are somewhat arbitrary - you can use a mean of 0.5 and a standard deviation of 0.5 to convert a range of [0,1] to [-1,1], for example.<br>However, <a href='https://discuss.pytorch.org/t/normalization-in-the-mnist-example/457/22'>research has shown</a> that mean=[0.485, 0.456, 0.406] and std=[0.229, 0.224, 0.225] work well in practice.\n",
        "\n",
        "### <a href='https://pytorch.org/docs/stable/torchvision/transforms.html#torchvision.transforms.Normalize'><tt>transforms.Normalize(<em>mean, std</em>)</tt></a>\n",
        "Given mean: (M1,...,Mn) and std: (S1,..,Sn) for n channels, this transform will normalize each channel of the input tensor\n",
        "### $\\quad\\textrm {input[channel]} = \\frac{\\textrm{input[channel] - mean[channel]}}{\\textrm {std[channel]}}$"
      ]
    },
    {
      "cell_type": "markdown",
      "metadata": {
        "id": "3Rsj03UL2yc6"
      },
      "source": [
        "Recall that before normalization, the upper-leftmost tensor had pixel values of <tt>[0.3529, 0.3725, 0.3843]</tt>.<br>\n",
        "With normalization we subtract the channel mean from the input channel, then divide by the channel std.<br><br>\n",
        "$\\frac{(0.3529-0.485)}{0.229}=-0.5767\\quad\\frac{(0.3725-0.456)}{0.224}=-0.3725\\quad\\frac{(0.3843-0.406)}{0.225}=-0.0964$<br>"
      ]
    },
    {
      "cell_type": "markdown",
      "metadata": {
        "id": "n5f5cIbz2yc-"
      },
      "source": [
        "When displayed, matplotlib clipped this particular pixel up to [0,0,0] so it appears black on the screen. However, the appearance isn't important; the goal of normalization is improved mathematical performance."
      ]
    },
    {
      "cell_type": "markdown",
      "metadata": {
        "id": "D56slQVS2yc-"
      },
      "source": [
        "### Optional: De-normalize the images\n",
        "To see the image back in its true colors, we can apply an inverse-transform to the tensor being displayed."
      ]
    },
    {
      "cell_type": "markdown",
      "metadata": {
        "id": "Wjjqs7mt2ydA"
      },
      "source": [
        "Note that the original tensor was not modified:"
      ]
    },
    {
      "cell_type": "markdown",
      "metadata": {
        "id": "Bjym0Bq3FZD_"
      },
      "source": [
        "Custom transform\n",
        "https://pytorch.org/tutorials/beginner/data_loading_tutorial.html"
      ]
    },
    {
      "cell_type": "code",
      "execution_count": 17,
      "metadata": {
        "id": "5o5Il45WFYoG"
      },
      "outputs": [],
      "source": [
        "class Rescale(object):\n",
        "    def __init__(self, output_size):\n",
        "        assert isinstance(output_size, (int, tuple))\n",
        "        self.output_size = output_size\n",
        "\n",
        "    def __call__(self, sample):\n",
        "        image = sample\n",
        "        img=sample.resize((self.output_size,self.output_size))\n",
        "\n",
        "\n",
        "        return img\n"
      ]
    },
    {
      "cell_type": "code",
      "execution_count": 18,
      "metadata": {
        "colab": {
          "base_uri": "https://localhost:8080/",
          "height": 165
        },
        "id": "KiNO3ivaGBsK",
        "outputId": "86b5f36f-aa84-4cef-b2a1-898b2cdf86b1"
      },
      "outputs": [
        {
          "output_type": "execute_result",
          "data": {
            "text/plain": [
              "<PIL.Image.Image image mode=L size=128x128>"
            ],
            "image/png": "[encoded data removed]"
          },
          "metadata": {},
          "execution_count": 18
        }
      ],
      "source": [
        "rescale_transform=Rescale(128)\n",
        "im_new=rescale_transform(bag)\n",
        "im_new"
      ]
    },
    {
      "cell_type": "markdown",
      "source": [
        "## Perform standard imports"
      ],
      "metadata": {
        "id": "V50w_P3b2VJ9"
      }
    },
    {
      "cell_type": "code",
      "source": [
        "import torch\n",
        "import torch.nn as nn\n",
        "import torch.nn.functional as F\n",
        "from torch.utils.data import DataLoader\n",
        "from torchvision import datasets, transforms, models # add models to the list\n",
        "from torchvision.utils import make_grid\n",
        "import os\n",
        "from torch.utils.data import Dataset\n",
        "import numpy as np\n",
        "import pandas as pd\n",
        "import matplotlib.pyplot as plt\n",
        "%matplotlib inline\n",
        "from PIL import Image\n",
        "# ignore harmless warnings\n",
        "import warnings\n",
        "warnings.filterwarnings(\"ignore\")\n",
        "DEVICE = 'cuda' if torch.cuda.is_available() else 'cpu'"
      ],
      "metadata": {
        "id": "c0VxP0Mc1_Jn"
      },
      "execution_count": 49,
      "outputs": []
    },
    {
      "cell_type": "markdown",
      "source": [
        "## Define transforms\n",
        "In the previous section we looked at a variety of transforms available for data augmentation (rotate, flip, etc.) and normalization.<br>\n",
        "Here we'll combine the ones we want, including the <a href='https://discuss.pytorch.org/t/normalization-in-the-mnist-example/457/22'>recommended normalization parameters</a> for mean and std per channel."
      ],
      "metadata": {
        "id": "D53vZIcW2YCJ"
      }
    },
    {
      "cell_type": "code",
      "source": [
        "train_transform = transforms.Compose([\n",
        "        transforms.RandomRotation(10),      # rotate +/- 10 degrees\n",
        "        transforms.RandomHorizontalFlip(),  # reverse 50% of images\n",
        "        #transforms.Resize(224),             # resize shortest side to 224 pixels\n",
        "        #transforms.CenterCrop(224),         # crop longest side to 224 pixels at center\n",
        "        transforms.ToTensor(),\n",
        "        transforms.Normalize([0.485],\n",
        "                             [0.229])\n",
        "    ])\n",
        "\n",
        "test_transform = transforms.Compose([\n",
        "        #transforms.Resize(224),\n",
        "        #transforms.CenterCrop(224),\n",
        "        transforms.ToTensor(),\n",
        "        transforms.Normalize([0.485],\n",
        "                             [0.229])\n",
        "    ])"
      ],
      "metadata": {
        "id": "8WC_MdmR2aPp"
      },
      "execution_count": 19,
      "outputs": []
    },
    {
      "cell_type": "markdown",
      "source": [
        "## Prepare train and test sets, loaders\n",
        "We're going to take advantage of a built-in torchvision dataset tool called <a href='https://pytorch.org/docs/stable/torchvision/datasets.html#imagefolder'><tt><strong>ImageFolder</strong></tt></a>."
      ],
      "metadata": {
        "id": "lGw1G2l53FQq"
      }
    },
    {
      "cell_type": "code",
      "source": [
        "class CustomDataset(Dataset):\n",
        "    def __init__(self, root, transform=None, target_transform=None):\n",
        "        # Initializing Captcha Dataset class\n",
        "        super(CustomDataset, self).__init__()\n",
        "        self.root=root\n",
        "        # Listing all files in the provided root directory\n",
        "        self.classes=sorted(os.listdir(root))\n",
        "        # Initializing lists to store images and their respective labels\n",
        "        self.images = []\n",
        "        self.labels = []\n",
        "        self.transform=transform\n",
        "        self.target_transform=target_transform\n",
        "        for class_name in self.classes:\n",
        "          for img in os.listdir(os.path.join(root,class_name)):\n",
        "            self.images.append(os.path.join(root,class_name,img))\n",
        "            self.labels.append(self.classes.index(class_name))\n",
        "        # Iterating through each file in the root directory\n",
        "\n",
        "    def __len__(self):\n",
        "        # Returning the total number of images\n",
        "        return len(self.labels)\n",
        "\n",
        "    def __getitem__(self, idx:int):\n",
        "        # Retrieving image and target label based on index\n",
        "        img, target = self.images[idx], self.labels[idx]\n",
        "\n",
        "        # Checking if the index is a slice (multiple items requested)\n",
        "        if isinstance(idx, slice):\n",
        "            tmp = []\n",
        "            # Iterating through each image in the slice\n",
        "            for item in img:\n",
        "                # Applying transformations if specified\n",
        "                if self.transform is not None:\n",
        "                    tmp.append(self.transform(self.read_image(item)))\n",
        "                else:\n",
        "                    tmp.append(self.read_image(item))\n",
        "            img = tmp\n",
        "        else:\n",
        "            # Applying transformations if specified\n",
        "            if self.transform is not None:\n",
        "                img = self.transform(self.read_image(img))\n",
        "            else:\n",
        "                img = self.read_image(img)\n",
        "\n",
        "        # Applying target transformations if specified\n",
        "\n",
        "        # Returning image and target label\n",
        "        return img, target\n",
        "\n",
        "    # Method to read image from file path\n",
        "    def read_image(self, path):\n",
        "        img = Image.open(path)\n",
        "        # Converting image to RGB format\n",
        "        return img\n",
        "\n",
        "    # Method to check if a file is an image file\n",
        "    def is_image_file(self, filename):\n",
        "        # Checking if filename ends with any of the specified image extensions\n",
        "        return any(filename.endswith(extension) for extension in [\".jpg\", \".jpeg\", \".png\"])"
      ],
      "metadata": {
        "id": "Ghf_lbZM3Fqv"
      },
      "execution_count": 61,
      "outputs": []
    },
    {
      "cell_type": "code",
      "source": [
        "train_data=CustomDataset('FashionMNIST/train',transform=train_transform)\n",
        "test_data=CustomDataset('FashionMNIST/test',transform=test_transform)\n",
        "\n",
        "train_data[0][0].shape"
      ],
      "metadata": {
        "colab": {
          "base_uri": "https://localhost:8080/"
        },
        "id": "ISPV4jHR3IY-",
        "outputId": "3daf36f7-abcd-43bb-cea9-954b207fe08c"
      },
      "execution_count": 62,
      "outputs": [
        {
          "output_type": "execute_result",
          "data": {
            "text/plain": [
              "torch.Size([1, 28, 28])"
            ]
          },
          "metadata": {},
          "execution_count": 62
        }
      ]
    },
    {
      "cell_type": "code",
      "source": [
        "root = 'FashionMNIST'\n",
        "\n",
        "train_data = datasets.ImageFolder(os.path.join(root, 'train'), transform=train_transform)\n",
        "test_data = datasets.ImageFolder(os.path.join(root, 'test'), transform=test_transform)"
      ],
      "metadata": {
        "id": "tDyOv6Wo3LMi"
      },
      "execution_count": 33,
      "outputs": []
    },
    {
      "cell_type": "code",
      "source": [
        "torch.manual_seed(42)\n",
        "train_loader = DataLoader(train_data, batch_size=10, shuffle=True)\n",
        "test_loader = DataLoader(test_data, batch_size=10, shuffle=False)\n",
        "\n",
        "class_names=train_data.classes\n",
        "print(f'Training images available: {len(train_data)}')\n",
        "print(f'Testing images available:  {len(test_data)}')"
      ],
      "metadata": {
        "colab": {
          "base_uri": "https://localhost:8080/"
        },
        "id": "ocb_vNqv3OXd",
        "outputId": "32ca801c-0a56-4fd1-bef9-49fc2007e43b"
      },
      "execution_count": 63,
      "outputs": [
        {
          "output_type": "stream",
          "name": "stdout",
          "text": [
            "Training images available: 60000\n",
            "Testing images available:  10000\n"
          ]
        }
      ]
    },
    {
      "cell_type": "code",
      "source": [
        "b=next(iter(train_loader))"
      ],
      "metadata": {
        "id": "EjTwDrqH3P-i"
      },
      "execution_count": 64,
      "outputs": []
    },
    {
      "cell_type": "markdown",
      "source": [
        "DATALOADER:https://pytorch.org/docs/stable/data.html"
      ],
      "metadata": {
        "id": "lHCaC8Aq3xnV"
      }
    },
    {
      "cell_type": "markdown",
      "source": [
        "## Display a batch of images\n",
        "To verify that the training loader selects cat and dog images at random, let's show a batch of loaded images.<br>\n",
        "Recall that imshow clips pixel values <0, so the resulting display lacks contrast. We'll apply a quick inverse transform to the input tensor so that images show their \"true\" colors."
      ],
      "metadata": {
        "id": "3Hf37JyM35my"
      }
    },
    {
      "cell_type": "code",
      "source": [
        "# Grab the first batch of 10 images\n",
        "for images,labels in train_loader:\n",
        "    break\n",
        "\n",
        "# Print the labels\n",
        "print('Label:', labels.numpy())\n",
        "print('Class:', *np.array([class_names[i] for i in labels]))\n",
        "\n",
        "im = make_grid(images, nrow=5)  # the default nrow is 8\n",
        "\n",
        "# Inverse normalize the images\n",
        "inv_normalize = transforms.Normalize(\n",
        "    mean=[-0.485/0.229, -0.456/0.224, -0.406/0.225],\n",
        "    std=[1/0.229, 1/0.224, 1/0.225]\n",
        ")\n",
        "im_inv = inv_normalize(im)\n",
        "\n",
        "# Print the images\n",
        "plt.figure(figsize=(12,4))\n",
        "plt.imshow(np.transpose(im_inv.numpy(), (1, 2, 0)));"
      ],
      "metadata": {
        "colab": {
          "base_uri": "https://localhost:8080/",
          "height": 443
        },
        "id": "_oSi0PEF3RJ_",
        "outputId": "0f287964-d388-44ab-d29a-919197de5120"
      },
      "execution_count": 65,
      "outputs": [
        {
          "output_type": "stream",
          "name": "stderr",
          "text": [
            "WARNING:matplotlib.image:Clipping input data to the valid range for imshow with RGB data ([0..1] for floats or [0..255] for integers).\n"
          ]
        },
        {
          "output_type": "stream",
          "name": "stdout",
          "text": [
            "Label: [6 8 6 9 7 3 7 4 1 5]\n",
            "Class: Shirt T-shirt Shirt Trouser Sneaker Dress Sneaker Pullover Bag Sandal\n"
          ]
        },
        {
          "output_type": "display_data",
          "data": {
            "text/plain": [
              "<Figure size 1200x400 with 1 Axes>"
            ],
            "image/png": "[encoded data removed]"
          },
          "metadata": {}
        }
      ]
    },
    {
      "cell_type": "markdown",
      "source": [
        "## Define the model\n",
        "Here we have a binary classification (2 output channels). So let's define the model."
      ],
      "metadata": {
        "id": "RUPnoRpT4Aan"
      }
    },
    {
      "cell_type": "code",
      "source": [
        "class SimpleNet(nn.Module):\n",
        "    def __init__(self):\n",
        "        super().__init__()\n",
        "\n",
        "        self.fc1 = nn.Linear(28*28, 128)\n",
        "        self.fc2 = nn.Linear(128, 64)\n",
        "        self.fc3 = nn.Linear(64, 10)\n",
        "\n",
        "    def forward(self, X):\n",
        "        out=X.view(-1,28*28)\n",
        "        out = F.relu(self.fc1(out))\n",
        "        out = F.relu(self.fc2(out))\n",
        "        out = self.fc3(out)\n",
        "        return out"
      ],
      "metadata": {
        "id": "No_elwdw37_m"
      },
      "execution_count": 66,
      "outputs": []
    },
    {
      "cell_type": "code",
      "source": [
        "model=SimpleNet()\n",
        "sample=torch.randn(10,28,28)\n",
        "res=model(sample)\n",
        "res.sum().backward()"
      ],
      "metadata": {
        "id": "TIGZSNbL4oTI"
      },
      "execution_count": 67,
      "outputs": []
    },
    {
      "cell_type": "markdown",
      "source": [
        "<div class=\"alert alert-info\"><strong>Why <tt>(54x54x16)</tt>?</strong><br>\n",
        "With 224 pixels per side, the kernels and pooling layers result in $\\;(((224-2)/2)-2)/2 = 54.5\\;$ which rounds down to 54 pixels per side.</div>"
      ],
      "metadata": {
        "id": "kd_K2Fko4r12"
      }
    },
    {
      "cell_type": "markdown",
      "source": [
        "### Instantiate the model, define loss and optimization functions\n",
        "We're going to call our model \"CNNmodel\" to differentiate it from an \"AlexNetmodel\" we'll use later."
      ],
      "metadata": {
        "id": "XxezQuzl4uRN"
      }
    },
    {
      "cell_type": "code",
      "source": [
        "torch.manual_seed(101)\n",
        "model = SimpleNet().to(DEVICE)\n",
        "criterion = nn.CrossEntropyLoss()\n",
        "optimizer = torch.optim.Adam(model.parameters(), lr=0.001)\n",
        "model"
      ],
      "metadata": {
        "colab": {
          "base_uri": "https://localhost:8080/"
        },
        "id": "UToiGyK94ouF",
        "outputId": "e7330b01-5a69-432c-b92b-a1d3db8fbc8b"
      },
      "execution_count": 68,
      "outputs": [
        {
          "output_type": "execute_result",
          "data": {
            "text/plain": [
              "SimpleNet(\n",
              "  (fc1): Linear(in_features=784, out_features=128, bias=True)\n",
              "  (fc2): Linear(in_features=128, out_features=64, bias=True)\n",
              "  (fc3): Linear(in_features=64, out_features=10, bias=True)\n",
              ")"
            ]
          },
          "metadata": {},
          "execution_count": 68
        }
      ]
    },
    {
      "cell_type": "markdown",
      "source": [
        "### Looking at the trainable parameters"
      ],
      "metadata": {
        "id": "SZZt8hSF408S"
      }
    },
    {
      "cell_type": "code",
      "source": [
        "def count_parameters(model):\n",
        "    params = [p.numel() for p in model.parameters() if p.requires_grad]\n",
        "    for item in params:\n",
        "        print(f'{item:>8}')\n",
        "    print(f'________\\n{sum(params):>8}')"
      ],
      "metadata": {
        "id": "UxfvLdod4ykU"
      },
      "execution_count": 69,
      "outputs": []
    },
    {
      "cell_type": "code",
      "source": [
        "count_parameters(model)"
      ],
      "metadata": {
        "colab": {
          "base_uri": "https://localhost:8080/"
        },
        "id": "ZAE7q1sT421G",
        "outputId": "d7dda04c-5bd2-4eb7-9a88-7e4e0abe54c7"
      },
      "execution_count": 54,
      "outputs": [
        {
          "output_type": "stream",
          "name": "stdout",
          "text": [
            "  100352\n",
            "     128\n",
            "    8192\n",
            "      64\n",
            "     640\n",
            "      10\n",
            "________\n",
            "  109386\n"
          ]
        }
      ]
    },
    {
      "cell_type": "markdown",
      "source": [
        "## Train the model\n",
        "In the interests of time, we'll limit the number of training batches to 800, and the number of testing batches to 300. We'll train the model on 8000 of 18743 available images, and test it on 3000 out of 6251 images."
      ],
      "metadata": {
        "id": "zbA0EW4N46Fj"
      }
    },
    {
      "cell_type": "code",
      "source": [
        "def accuracy(out, y_batch):\n",
        "    return (torch.argmax(out, dim=1)==y_batch).float().mean()"
      ],
      "metadata": {
        "id": "CmNuhirdQLrP"
      },
      "execution_count": 76,
      "outputs": []
    },
    {
      "cell_type": "code",
      "source": [
        "import time\n",
        "start_time = time.time()\n",
        "from tqdm import tqdm\n",
        "epochs = 3\n",
        "train_loader = DataLoader(train_data, batch_size=32, shuffle=True)\n",
        "test_loader = DataLoader(test_data, batch_size=32, shuffle=False)\n",
        "\n",
        "\n",
        "train_losses = []\n",
        "test_losses = []\n",
        "train_correct = []\n",
        "test_correct = []\n",
        "\n",
        "for i in range(epochs):\n",
        "    trn_corr = 0\n",
        "    tst_corr = 0\n",
        "    # Run the training batches\n",
        "    running_loss=0.\n",
        "    for b, (X_train, y_train) in enumerate(tqdm(train_loader)):\n",
        "        X_train=X_train.to(DEVICE)\n",
        "        y_train=y_train.to(DEVICE)\n",
        "        y_pred = model(X_train)\n",
        "        loss = criterion(y_pred, y_train)\n",
        "        optimizer.zero_grad()\n",
        "        loss.backward()\n",
        "        optimizer.step()\n",
        "        running_loss+=loss.item()\n",
        "        # Print interim results\n",
        "        if b%100 == 0:\n",
        "            print(f'epoch: {i:2}  batch: {b:4} [{10*b:6}/8000]  loss: {loss.item():10.8f}')\n",
        "\n",
        "    train_losses.append(running_loss/len(train_loader))\n",
        "\n",
        "    # Run the testing batches\n",
        "    with torch.no_grad():\n",
        "        val_acc=0.\n",
        "        val_running_loss=0.0\n",
        "        for b, (X_test, y_test) in enumerate(test_loader):\n",
        "            # Limit the number of batches\n",
        "            X_test=X_test.to(DEVICE)\n",
        "            y_test=y_test.to(DEVICE)\n",
        "            y_val = model(X_test)\n",
        "            btch_acc=accuracy(y_val, y_test)\n",
        "            val_acc+=btch_acc\n",
        "            loss = criterion(y_val, y_test)\n",
        "            val_running_loss+=loss.item()\n",
        "    test_losses.append(val_running_loss/len(test_loader))\n",
        "    test_correct.append(val_acc/len(test_loader))\n",
        "\n",
        "print(f'\\nDuration: {time.time() - start_time:.0f} seconds') # print the time elapsed"
      ],
      "metadata": {
        "colab": {
          "base_uri": "https://localhost:8080/"
        },
        "id": "SgTVGKE744OB",
        "outputId": "3ea82bb0-d66c-4874-fe79-658709deb2c6"
      },
      "execution_count": 79,
      "outputs": [
        {
          "output_type": "stream",
          "name": "stderr",
          "text": [
            "  0%|          | 7/1875 [00:00<01:00, 30.94it/s]"
          ]
        },
        {
          "output_type": "stream",
          "name": "stdout",
          "text": [
            "epoch:  0  batch:    0 [     0/8000]  loss: 0.71346003\n"
          ]
        },
        {
          "output_type": "stream",
          "name": "stderr",
          "text": [
            "  6%|▌         | 108/1875 [00:02<00:44, 39.40it/s]"
          ]
        },
        {
          "output_type": "stream",
          "name": "stdout",
          "text": [
            "epoch:  0  batch:  100 [  1000/8000]  loss: 0.61510497\n"
          ]
        },
        {
          "output_type": "stream",
          "name": "stderr",
          "text": [
            " 11%|█         | 207/1875 [00:06<00:52, 32.05it/s]"
          ]
        },
        {
          "output_type": "stream",
          "name": "stdout",
          "text": [
            "epoch:  0  batch:  200 [  2000/8000]  loss: 0.56570637\n"
          ]
        },
        {
          "output_type": "stream",
          "name": "stderr",
          "text": [
            " 16%|█▋        | 307/1875 [00:08<00:40, 38.99it/s]"
          ]
        },
        {
          "output_type": "stream",
          "name": "stdout",
          "text": [
            "epoch:  0  batch:  300 [  3000/8000]  loss: 0.41619080\n"
          ]
        },
        {
          "output_type": "stream",
          "name": "stderr",
          "text": [
            " 22%|██▏       | 408/1875 [00:11<00:37, 39.20it/s]"
          ]
        },
        {
          "output_type": "stream",
          "name": "stdout",
          "text": [
            "epoch:  0  batch:  400 [  4000/8000]  loss: 0.58840108\n"
          ]
        },
        {
          "output_type": "stream",
          "name": "stderr",
          "text": [
            " 27%|██▋       | 506/1875 [00:14<00:35, 38.37it/s]"
          ]
        },
        {
          "output_type": "stream",
          "name": "stdout",
          "text": [
            "epoch:  0  batch:  500 [  5000/8000]  loss: 0.67171949\n"
          ]
        },
        {
          "output_type": "stream",
          "name": "stderr",
          "text": [
            " 32%|███▏      | 605/1875 [00:16<00:41, 30.83it/s]"
          ]
        },
        {
          "output_type": "stream",
          "name": "stdout",
          "text": [
            "epoch:  0  batch:  600 [  6000/8000]  loss: 0.79006511\n"
          ]
        },
        {
          "output_type": "stream",
          "name": "stderr",
          "text": [
            " 38%|███▊      | 705/1875 [00:19<00:29, 39.87it/s]"
          ]
        },
        {
          "output_type": "stream",
          "name": "stdout",
          "text": [
            "epoch:  0  batch:  700 [  7000/8000]  loss: 0.46288645\n"
          ]
        },
        {
          "output_type": "stream",
          "name": "stderr",
          "text": [
            " 43%|████▎     | 806/1875 [00:22<00:28, 37.98it/s]"
          ]
        },
        {
          "output_type": "stream",
          "name": "stdout",
          "text": [
            "epoch:  0  batch:  800 [  8000/8000]  loss: 0.28190279\n"
          ]
        },
        {
          "output_type": "stream",
          "name": "stderr",
          "text": [
            " 48%|████▊     | 906/1875 [00:25<00:26, 36.00it/s]"
          ]
        },
        {
          "output_type": "stream",
          "name": "stdout",
          "text": [
            "epoch:  0  batch:  900 [  9000/8000]  loss: 0.41354248\n"
          ]
        },
        {
          "output_type": "stream",
          "name": "stderr",
          "text": [
            " 54%|█████▎    | 1006/1875 [00:27<00:22, 39.46it/s]"
          ]
        },
        {
          "output_type": "stream",
          "name": "stdout",
          "text": [
            "epoch:  0  batch: 1000 [ 10000/8000]  loss: 0.53165829\n"
          ]
        },
        {
          "output_type": "stream",
          "name": "stderr",
          "text": [
            " 59%|█████▉    | 1106/1875 [00:31<00:26, 29.29it/s]"
          ]
        },
        {
          "output_type": "stream",
          "name": "stdout",
          "text": [
            "epoch:  0  batch: 1100 [ 11000/8000]  loss: 0.72455370\n"
          ]
        },
        {
          "output_type": "stream",
          "name": "stderr",
          "text": [
            " 64%|██████▍   | 1207/1875 [00:33<00:16, 39.39it/s]"
          ]
        },
        {
          "output_type": "stream",
          "name": "stdout",
          "text": [
            "epoch:  0  batch: 1200 [ 12000/8000]  loss: 0.48777756\n"
          ]
        },
        {
          "output_type": "stream",
          "name": "stderr",
          "text": [
            " 70%|██████▉   | 1306/1875 [00:36<00:15, 37.42it/s]"
          ]
        },
        {
          "output_type": "stream",
          "name": "stdout",
          "text": [
            "epoch:  0  batch: 1300 [ 13000/8000]  loss: 0.44271868\n"
          ]
        },
        {
          "output_type": "stream",
          "name": "stderr",
          "text": [
            " 75%|███████▍  | 1406/1875 [00:38<00:12, 38.25it/s]"
          ]
        },
        {
          "output_type": "stream",
          "name": "stdout",
          "text": [
            "epoch:  0  batch: 1400 [ 14000/8000]  loss: 0.27971739\n"
          ]
        },
        {
          "output_type": "stream",
          "name": "stderr",
          "text": [
            " 80%|████████  | 1506/1875 [00:41<00:10, 36.72it/s]"
          ]
        },
        {
          "output_type": "stream",
          "name": "stdout",
          "text": [
            "epoch:  0  batch: 1500 [ 15000/8000]  loss: 0.42468223\n"
          ]
        },
        {
          "output_type": "stream",
          "name": "stderr",
          "text": [
            " 86%|████████▌ | 1607/1875 [00:44<00:07, 36.76it/s]"
          ]
        },
        {
          "output_type": "stream",
          "name": "stdout",
          "text": [
            "epoch:  0  batch: 1600 [ 16000/8000]  loss: 0.40505821\n"
          ]
        },
        {
          "output_type": "stream",
          "name": "stderr",
          "text": [
            " 91%|█████████ | 1708/1875 [00:47<00:04, 38.79it/s]"
          ]
        },
        {
          "output_type": "stream",
          "name": "stdout",
          "text": [
            "epoch:  0  batch: 1700 [ 17000/8000]  loss: 0.48193297\n"
          ]
        },
        {
          "output_type": "stream",
          "name": "stderr",
          "text": [
            " 96%|█████████▋| 1805/1875 [00:49<00:01, 39.67it/s]"
          ]
        },
        {
          "output_type": "stream",
          "name": "stdout",
          "text": [
            "epoch:  0  batch: 1800 [ 18000/8000]  loss: 0.53094512\n"
          ]
        },
        {
          "output_type": "stream",
          "name": "stderr",
          "text": [
            "100%|██████████| 1875/1875 [00:51<00:00, 36.23it/s]\n",
            "  0%|          | 6/1875 [00:00<01:04, 28.96it/s]"
          ]
        },
        {
          "output_type": "stream",
          "name": "stdout",
          "text": [
            "epoch:  1  batch:    0 [     0/8000]  loss: 0.61121738\n"
          ]
        },
        {
          "output_type": "stream",
          "name": "stderr",
          "text": [
            "  6%|▌         | 109/1875 [00:02<00:42, 41.80it/s]"
          ]
        },
        {
          "output_type": "stream",
          "name": "stdout",
          "text": [
            "epoch:  1  batch:  100 [  1000/8000]  loss: 0.50940669\n"
          ]
        },
        {
          "output_type": "stream",
          "name": "stderr",
          "text": [
            " 11%|█         | 209/1875 [00:04<00:37, 44.64it/s]"
          ]
        },
        {
          "output_type": "stream",
          "name": "stdout",
          "text": [
            "epoch:  1  batch:  200 [  2000/8000]  loss: 0.28163078\n"
          ]
        },
        {
          "output_type": "stream",
          "name": "stderr",
          "text": [
            " 16%|█▋        | 309/1875 [00:07<00:34, 45.05it/s]"
          ]
        },
        {
          "output_type": "stream",
          "name": "stdout",
          "text": [
            "epoch:  1  batch:  300 [  3000/8000]  loss: 0.49865308\n"
          ]
        },
        {
          "output_type": "stream",
          "name": "stderr",
          "text": [
            " 22%|██▏       | 409/1875 [00:09<00:34, 41.99it/s]"
          ]
        },
        {
          "output_type": "stream",
          "name": "stdout",
          "text": [
            "epoch:  1  batch:  400 [  4000/8000]  loss: 0.35918361\n"
          ]
        },
        {
          "output_type": "stream",
          "name": "stderr",
          "text": [
            " 27%|██▋       | 505/1875 [00:12<00:42, 31.87it/s]"
          ]
        },
        {
          "output_type": "stream",
          "name": "stdout",
          "text": [
            "epoch:  1  batch:  500 [  5000/8000]  loss: 0.63759798\n"
          ]
        },
        {
          "output_type": "stream",
          "name": "stderr",
          "text": [
            " 32%|███▏      | 608/1875 [00:14<00:28, 43.98it/s]"
          ]
        },
        {
          "output_type": "stream",
          "name": "stdout",
          "text": [
            "epoch:  1  batch:  600 [  6000/8000]  loss: 0.56032664\n"
          ]
        },
        {
          "output_type": "stream",
          "name": "stderr",
          "text": [
            " 38%|███▊      | 708/1875 [00:17<00:26, 43.88it/s]"
          ]
        },
        {
          "output_type": "stream",
          "name": "stdout",
          "text": [
            "epoch:  1  batch:  700 [  7000/8000]  loss: 0.60515910\n"
          ]
        },
        {
          "output_type": "stream",
          "name": "stderr",
          "text": [
            " 43%|████▎     | 808/1875 [00:19<00:25, 41.64it/s]"
          ]
        },
        {
          "output_type": "stream",
          "name": "stdout",
          "text": [
            "epoch:  1  batch:  800 [  8000/8000]  loss: 0.45791748\n"
          ]
        },
        {
          "output_type": "stream",
          "name": "stderr",
          "text": [
            " 48%|████▊     | 908/1875 [00:21<00:22, 43.41it/s]"
          ]
        },
        {
          "output_type": "stream",
          "name": "stdout",
          "text": [
            "epoch:  1  batch:  900 [  9000/8000]  loss: 0.27229285\n"
          ]
        },
        {
          "output_type": "stream",
          "name": "stderr",
          "text": [
            " 54%|█████▎    | 1005/1875 [00:24<00:26, 32.98it/s]"
          ]
        },
        {
          "output_type": "stream",
          "name": "stdout",
          "text": [
            "epoch:  1  batch: 1000 [ 10000/8000]  loss: 0.49119282\n"
          ]
        },
        {
          "output_type": "stream",
          "name": "stderr",
          "text": [
            " 59%|█████▉    | 1107/1875 [00:27<00:17, 44.87it/s]"
          ]
        },
        {
          "output_type": "stream",
          "name": "stdout",
          "text": [
            "epoch:  1  batch: 1100 [ 11000/8000]  loss: 0.44045290\n"
          ]
        },
        {
          "output_type": "stream",
          "name": "stderr",
          "text": [
            " 64%|██████▍   | 1207/1875 [00:29<00:15, 42.66it/s]"
          ]
        },
        {
          "output_type": "stream",
          "name": "stdout",
          "text": [
            "epoch:  1  batch: 1200 [ 12000/8000]  loss: 0.25565776\n"
          ]
        },
        {
          "output_type": "stream",
          "name": "stderr",
          "text": [
            " 70%|██████▉   | 1307/1875 [00:31<00:13, 42.03it/s]"
          ]
        },
        {
          "output_type": "stream",
          "name": "stdout",
          "text": [
            "epoch:  1  batch: 1300 [ 13000/8000]  loss: 0.38118294\n"
          ]
        },
        {
          "output_type": "stream",
          "name": "stderr",
          "text": [
            " 75%|███████▌  | 1407/1875 [00:34<00:11, 42.29it/s]"
          ]
        },
        {
          "output_type": "stream",
          "name": "stdout",
          "text": [
            "epoch:  1  batch: 1400 [ 14000/8000]  loss: 0.46784496\n"
          ]
        },
        {
          "output_type": "stream",
          "name": "stderr",
          "text": [
            " 80%|████████  | 1505/1875 [00:36<00:10, 33.74it/s]"
          ]
        },
        {
          "output_type": "stream",
          "name": "stdout",
          "text": [
            "epoch:  1  batch: 1500 [ 15000/8000]  loss: 0.48786592\n"
          ]
        },
        {
          "output_type": "stream",
          "name": "stderr",
          "text": [
            " 86%|████████▌ | 1606/1875 [00:39<00:06, 40.55it/s]"
          ]
        },
        {
          "output_type": "stream",
          "name": "stdout",
          "text": [
            "epoch:  1  batch: 1600 [ 16000/8000]  loss: 0.72928131\n"
          ]
        },
        {
          "output_type": "stream",
          "name": "stderr",
          "text": [
            " 91%|█████████ | 1706/1875 [00:41<00:03, 43.74it/s]"
          ]
        },
        {
          "output_type": "stream",
          "name": "stdout",
          "text": [
            "epoch:  1  batch: 1700 [ 17000/8000]  loss: 0.32731327\n"
          ]
        },
        {
          "output_type": "stream",
          "name": "stderr",
          "text": [
            " 96%|█████████▋| 1806/1875 [00:44<00:01, 42.78it/s]"
          ]
        },
        {
          "output_type": "stream",
          "name": "stdout",
          "text": [
            "epoch:  1  batch: 1800 [ 18000/8000]  loss: 0.52630883\n"
          ]
        },
        {
          "output_type": "stream",
          "name": "stderr",
          "text": [
            "100%|██████████| 1875/1875 [00:45<00:00, 41.06it/s]\n",
            "  0%|          | 4/1875 [00:00<01:00, 31.17it/s]"
          ]
        },
        {
          "output_type": "stream",
          "name": "stdout",
          "text": [
            "epoch:  2  batch:    0 [     0/8000]  loss: 0.49969134\n"
          ]
        },
        {
          "output_type": "stream",
          "name": "stderr",
          "text": [
            "  6%|▌         | 108/1875 [00:02<00:39, 45.21it/s]"
          ]
        },
        {
          "output_type": "stream",
          "name": "stdout",
          "text": [
            "epoch:  2  batch:  100 [  1000/8000]  loss: 0.60577464\n"
          ]
        },
        {
          "output_type": "stream",
          "name": "stderr",
          "text": [
            " 11%|█         | 208/1875 [00:05<00:39, 41.69it/s]"
          ]
        },
        {
          "output_type": "stream",
          "name": "stdout",
          "text": [
            "epoch:  2  batch:  200 [  2000/8000]  loss: 0.69738972\n"
          ]
        },
        {
          "output_type": "stream",
          "name": "stderr",
          "text": [
            " 16%|█▋        | 308/1875 [00:07<00:36, 43.36it/s]"
          ]
        },
        {
          "output_type": "stream",
          "name": "stdout",
          "text": [
            "epoch:  2  batch:  300 [  3000/8000]  loss: 0.38587874\n"
          ]
        },
        {
          "output_type": "stream",
          "name": "stderr",
          "text": [
            " 22%|██▏       | 408/1875 [00:09<00:33, 43.56it/s]"
          ]
        },
        {
          "output_type": "stream",
          "name": "stdout",
          "text": [
            "epoch:  2  batch:  400 [  4000/8000]  loss: 0.51069427\n"
          ]
        },
        {
          "output_type": "stream",
          "name": "stderr",
          "text": [
            " 27%|██▋       | 506/1875 [00:12<00:41, 33.30it/s]"
          ]
        },
        {
          "output_type": "stream",
          "name": "stdout",
          "text": [
            "epoch:  2  batch:  500 [  5000/8000]  loss: 0.30882743\n"
          ]
        },
        {
          "output_type": "stream",
          "name": "stderr",
          "text": [
            " 32%|███▏      | 606/1875 [00:15<00:29, 43.63it/s]"
          ]
        },
        {
          "output_type": "stream",
          "name": "stdout",
          "text": [
            "epoch:  2  batch:  600 [  6000/8000]  loss: 0.26533833\n"
          ]
        },
        {
          "output_type": "stream",
          "name": "stderr",
          "text": [
            " 38%|███▊      | 706/1875 [00:17<00:26, 44.23it/s]"
          ]
        },
        {
          "output_type": "stream",
          "name": "stdout",
          "text": [
            "epoch:  2  batch:  700 [  7000/8000]  loss: 0.23399413\n"
          ]
        },
        {
          "output_type": "stream",
          "name": "stderr",
          "text": [
            " 43%|████▎     | 806/1875 [00:19<00:24, 44.07it/s]"
          ]
        },
        {
          "output_type": "stream",
          "name": "stdout",
          "text": [
            "epoch:  2  batch:  800 [  8000/8000]  loss: 0.67834461\n"
          ]
        },
        {
          "output_type": "stream",
          "name": "stderr",
          "text": [
            " 48%|████▊     | 906/1875 [00:21<00:22, 43.65it/s]"
          ]
        },
        {
          "output_type": "stream",
          "name": "stdout",
          "text": [
            "epoch:  2  batch:  900 [  9000/8000]  loss: 0.38185817\n"
          ]
        },
        {
          "output_type": "stream",
          "name": "stderr",
          "text": [
            " 54%|█████▎    | 1006/1875 [00:24<00:23, 36.26it/s]"
          ]
        },
        {
          "output_type": "stream",
          "name": "stdout",
          "text": [
            "epoch:  2  batch: 1000 [ 10000/8000]  loss: 0.81043786\n"
          ]
        },
        {
          "output_type": "stream",
          "name": "stderr",
          "text": [
            " 59%|█████▉    | 1107/1875 [00:27<00:18, 41.38it/s]"
          ]
        },
        {
          "output_type": "stream",
          "name": "stdout",
          "text": [
            "epoch:  2  batch: 1100 [ 11000/8000]  loss: 0.29658788\n"
          ]
        },
        {
          "output_type": "stream",
          "name": "stderr",
          "text": [
            " 64%|██████▍   | 1207/1875 [00:29<00:14, 44.68it/s]"
          ]
        },
        {
          "output_type": "stream",
          "name": "stdout",
          "text": [
            "epoch:  2  batch: 1200 [ 12000/8000]  loss: 0.47690734\n"
          ]
        },
        {
          "output_type": "stream",
          "name": "stderr",
          "text": [
            " 70%|██████▉   | 1307/1875 [00:31<00:12, 43.70it/s]"
          ]
        },
        {
          "output_type": "stream",
          "name": "stdout",
          "text": [
            "epoch:  2  batch: 1300 [ 13000/8000]  loss: 0.31771690\n"
          ]
        },
        {
          "output_type": "stream",
          "name": "stderr",
          "text": [
            " 75%|███████▌  | 1407/1875 [00:34<00:10, 43.06it/s]"
          ]
        },
        {
          "output_type": "stream",
          "name": "stdout",
          "text": [
            "epoch:  2  batch: 1400 [ 14000/8000]  loss: 0.37397349\n"
          ]
        },
        {
          "output_type": "stream",
          "name": "stderr",
          "text": [
            " 80%|████████  | 1507/1875 [00:36<00:08, 43.85it/s]"
          ]
        },
        {
          "output_type": "stream",
          "name": "stdout",
          "text": [
            "epoch:  2  batch: 1500 [ 15000/8000]  loss: 0.42426041\n"
          ]
        },
        {
          "output_type": "stream",
          "name": "stderr",
          "text": [
            " 86%|████████▌ | 1607/1875 [00:39<00:08, 30.75it/s]"
          ]
        },
        {
          "output_type": "stream",
          "name": "stdout",
          "text": [
            "epoch:  2  batch: 1600 [ 16000/8000]  loss: 0.51517469\n"
          ]
        },
        {
          "output_type": "stream",
          "name": "stderr",
          "text": [
            " 91%|█████████ | 1708/1875 [00:41<00:03, 43.86it/s]"
          ]
        },
        {
          "output_type": "stream",
          "name": "stdout",
          "text": [
            "epoch:  2  batch: 1700 [ 17000/8000]  loss: 0.29231009\n"
          ]
        },
        {
          "output_type": "stream",
          "name": "stderr",
          "text": [
            " 96%|█████████▋| 1808/1875 [00:44<00:01, 42.17it/s]"
          ]
        },
        {
          "output_type": "stream",
          "name": "stdout",
          "text": [
            "epoch:  2  batch: 1800 [ 18000/8000]  loss: 0.33681017\n"
          ]
        },
        {
          "output_type": "stream",
          "name": "stderr",
          "text": [
            "100%|██████████| 1875/1875 [00:45<00:00, 40.98it/s]\n"
          ]
        },
        {
          "output_type": "stream",
          "name": "stdout",
          "text": [
            "\n",
            "Duration: 157 seconds\n"
          ]
        }
      ]
    },
    {
      "cell_type": "markdown",
      "source": [
        "## Save the trained model"
      ],
      "metadata": {
        "id": "9_Sjr6VL5DOm"
      }
    },
    {
      "cell_type": "code",
      "source": [
        "torch.save(model.state_dict(), 'model.pt')"
      ],
      "metadata": {
        "id": "YFimX0DI4_d1"
      },
      "execution_count": 80,
      "outputs": []
    },
    {
      "cell_type": "markdown",
      "source": [
        "## Evaluate model performance"
      ],
      "metadata": {
        "id": "uRM7bdmN5Ka1"
      }
    },
    {
      "cell_type": "code",
      "source": [
        "plt.plot(train_losses, label='training loss')\n",
        "plt.plot(test_losses, label='validation loss')\n",
        "plt.title('Loss at the end of each epoch')\n",
        "plt.legend();"
      ],
      "metadata": {
        "colab": {
          "base_uri": "https://localhost:8080/",
          "height": 472
        },
        "id": "Kv2ez-tn5KtC",
        "outputId": "ba4161ca-f708-4ac4-9772-c2cb9d9c4ace"
      },
      "execution_count": 81,
      "outputs": [
        {
          "output_type": "display_data",
          "data": {
            "text/plain": [
              "<Figure size 640x480 with 1 Axes>"
            ],
            "image/png": "[encoded data removed]"
          },
          "metadata": {}
        }
      ]
    },
    {
      "cell_type": "code",
      "source": [
        "plt.plot(test_correct, label='validation accuracy')\n",
        "plt.title('Accuracy at the end of each epoch')\n",
        "plt.legend();"
      ],
      "metadata": {
        "colab": {
          "base_uri": "https://localhost:8080/",
          "height": 472
        },
        "id": "bac52XCw5Nrh",
        "outputId": "202d8d6c-28ee-496f-f4ae-10f658a84a37"
      },
      "execution_count": 82,
      "outputs": [
        {
          "output_type": "display_data",
          "data": {
            "text/plain": [
              "<Figure size 640x480 with 1 Axes>"
            ],
            "image/png": "[encoded data removed]"
          },
          "metadata": {}
        }
      ]
    },
    {
      "cell_type": "code",
      "source": [
        "print(test_correct)\n",
        "print(f'Test accuracy: {test_correct[-1]}%')"
      ],
      "metadata": {
        "colab": {
          "base_uri": "https://localhost:8080/"
        },
        "id": "hDOyZvuP5QPx",
        "outputId": "0532c4e1-b5e8-4114-d66d-6ab0ac17ec67"
      },
      "execution_count": 84,
      "outputs": [
        {
          "output_type": "stream",
          "name": "stdout",
          "text": [
            "[tensor(0.8073), tensor(0.8478), tensor(0.8478)]\n",
            "Test accuracy: 0.8478434681892395%\n"
          ]
        }
      ]
    },
    {
      "cell_type": "code",
      "source": [
        "test_idx=12\n",
        "\n",
        "#_ = plt.imshow(test_data[test_idx][0], cmap='gray')\n",
        "_ = plt.imshow(np.transpose(test_data[test_idx][0].numpy(), (1, 2, 0)));\n",
        "with torch.no_grad():\n",
        "  model.eval()\n",
        "  pred=model(test_data[test_idx][0])\n",
        "  model.train()\n",
        "print(f\"label:{train_data.classes[test_data[test_idx][1]]},pred:{train_data.classes[torch.argmax(pred)]}\")"
      ],
      "metadata": {
        "colab": {
          "base_uri": "https://localhost:8080/",
          "height": 467
        },
        "id": "G3ThiPVrTZXD",
        "outputId": "d1cd561f-f1fb-4833-e87a-9c379e05c366"
      },
      "execution_count": 93,
      "outputs": [
        {
          "output_type": "stream",
          "name": "stdout",
          "text": [
            "label:Ankle boot,pred:Ankle boot\n"
          ]
        },
        {
          "output_type": "display_data",
          "data": {
            "text/plain": [
              "<Figure size 640x480 with 1 Axes>"
            ],
            "image/png": "[encoded data removed]"
          },
          "metadata": {}
        }
      ]
    },
    {
      "cell_type": "markdown",
      "source": [
        "## Download a pretrained model\n",
        "Torchvision has a number of proven models available through <a href='https://pytorch.org/docs/stable/torchvision/models.html#classification'><tt><strong>torchvision.models</strong></tt></a>:\n",
        "<ul>\n",
        "<li><a href=\"https://arxiv.org/abs/1404.5997\">AlexNet</a></li>\n",
        "<li><a href=\"https://arxiv.org/abs/1409.1556\">VGG</a></li>\n",
        "<li><a href=\"https://arxiv.org/abs/1512.03385\">ResNet</a></li>\n",
        "<li><a href=\"https://arxiv.org/abs/1602.07360\">SqueezeNet</a></li>\n",
        "<li><a href=\"https://arxiv.org/abs/1608.06993\">DenseNet</a></li>\n",
        "<li><a href=\"https://arxiv.org/abs/1512.00567\">Inception</a></li>\n",
        "<li><a href=\"https://arxiv.org/abs/1409.4842\">GoogLeNet</a></li>\n",
        "<li><a href=\"https://arxiv.org/abs/1807.11164\">ShuffleNet</a></li>\n",
        "<li><a href=\"https://arxiv.org/abs/1801.04381\">MobileNet</a></li>\n",
        "<li><a href=\"https://arxiv.org/abs/1611.05431\">ResNeXt</a></li>\n",
        "</ul>\n",
        "These have all been trained on the <a href='http://www.image-net.org/'>ImageNet</a> database of images. Our only task is to reduce the output of the fully connected layers from (typically) 1000 categories to just 2.\n",
        "\n",
        "To access the models, you can construct a model with random weights by calling its constructor:<br>\n",
        "<pre>resnet18 = models.resnet18()</pre>\n",
        "You can also obtain a pre-trained model by passing pretrained=True:<br>\n",
        "<pre>resnet18 = models.resnet18(pretrained=True)</pre>\n",
        "All pre-trained models expect input images normalized in the same way, i.e. mini-batches of 3-channel RGB images of shape (3 x H x W), where H and W are expected to be at least 224. The images have to be loaded in to a range of [0, 1] and then normalized using mean = [0.485, 0.456, 0.406] and std = [0.229, 0.224, 0.225].\n",
        "\n",
        "Feel free to investigate the different models available. Each one will be downloaded to a cache directory the first time they're accessed - from then on they'll be available locally.\n",
        "\n",
        "For its simplicity and effectiveness, we'll use AlexNet:"
      ],
      "metadata": {
        "id": "qfP3fLG35fRv"
      }
    },
    {
      "cell_type": "code",
      "source": [
        "AlexNetmodel = models.alexnet(pretrained=True).to(DEVICE)\n",
        "AlexNetmodel"
      ],
      "metadata": {
        "colab": {
          "base_uri": "https://localhost:8080/"
        },
        "id": "m4-Zcb785foS",
        "outputId": "13fe58c8-902b-4ae8-f9d7-208c3ef30d18"
      },
      "execution_count": null,
      "outputs": [
        {
          "output_type": "stream",
          "name": "stderr",
          "text": [
            "Downloading: \"https://download.pytorch.org/models/alexnet-owt-7be5be79.pth\" to /root/.cache/torch/hub/checkpoints/alexnet-owt-7be5be79.pth\n",
            "100%|██████████| 233M/233M [00:02<00:00, 118MB/s]\n"
          ]
        },
        {
          "output_type": "execute_result",
          "data": {
            "text/plain": [
              "AlexNet(\n",
              "  (features): Sequential(\n",
              "    (0): Conv2d(3, 64, kernel_size=(11, 11), stride=(4, 4), padding=(2, 2))\n",
              "    (1): ReLU(inplace=True)\n",
              "    (2): MaxPool2d(kernel_size=3, stride=2, padding=0, dilation=1, ceil_mode=False)\n",
              "    (3): Conv2d(64, 192, kernel_size=(5, 5), stride=(1, 1), padding=(2, 2))\n",
              "    (4): ReLU(inplace=True)\n",
              "    (5): MaxPool2d(kernel_size=3, stride=2, padding=0, dilation=1, ceil_mode=False)\n",
              "    (6): Conv2d(192, 384, kernel_size=(3, 3), stride=(1, 1), padding=(1, 1))\n",
              "    (7): ReLU(inplace=True)\n",
              "    (8): Conv2d(384, 256, kernel_size=(3, 3), stride=(1, 1), padding=(1, 1))\n",
              "    (9): ReLU(inplace=True)\n",
              "    (10): Conv2d(256, 256, kernel_size=(3, 3), stride=(1, 1), padding=(1, 1))\n",
              "    (11): ReLU(inplace=True)\n",
              "    (12): MaxPool2d(kernel_size=3, stride=2, padding=0, dilation=1, ceil_mode=False)\n",
              "  )\n",
              "  (avgpool): AdaptiveAvgPool2d(output_size=(6, 6))\n",
              "  (classifier): Sequential(\n",
              "    (0): Dropout(p=0.5, inplace=False)\n",
              "    (1): Linear(in_features=9216, out_features=4096, bias=True)\n",
              "    (2): ReLU(inplace=True)\n",
              "    (3): Dropout(p=0.5, inplace=False)\n",
              "    (4): Linear(in_features=4096, out_features=4096, bias=True)\n",
              "    (5): ReLU(inplace=True)\n",
              "    (6): Linear(in_features=4096, out_features=1000, bias=True)\n",
              "  )\n",
              ")"
            ]
          },
          "metadata": {},
          "execution_count": 46
        }
      ]
    },
    {
      "cell_type": "markdown",
      "source": [
        "<div class=\"alert alert-info\">This model uses <a href='https://pytorch.org/docs/master/nn.html#torch.nn.AdaptiveAvgPool2d'><tt><strong>torch.nn.AdaptiveAvgPool2d(<em>output_size</em>)</strong></tt></a> to convert the large matrix coming out of the convolutional layers to a (6x6)x256 matrix being fed into the fully connected layers.</div>"
      ],
      "metadata": {
        "id": "oe9oSKDD5ldN"
      }
    },
    {
      "cell_type": "markdown",
      "source": [
        "## Freeze feature parameters\n",
        "We want to freeze the pre-trained weights & biases. We set <tt>.requires_grad</tt> to False so we don't backprop through them."
      ],
      "metadata": {
        "id": "mpHijP1I5oFL"
      }
    },
    {
      "cell_type": "code",
      "source": [
        "for param in AlexNetmodel.parameters():\n",
        "    param.requires_grad = False"
      ],
      "metadata": {
        "id": "nS3ukM3E5lw-"
      },
      "execution_count": null,
      "outputs": []
    },
    {
      "cell_type": "markdown",
      "source": [
        "## Modify the classifier\n",
        "Next we need to modify the fully connected layers to produce a binary output. The section is labeled \"classifier\" in the AlexNet model.<br>\n",
        "Note that when we assign new layers, their parameters default to <tt>.requires_grad=True</tt>."
      ],
      "metadata": {
        "id": "S2qY086Q5qoA"
      }
    },
    {
      "cell_type": "code",
      "source": [
        "torch.manual_seed(42)\n",
        "AlexNetmodel.classifier = nn.Sequential(nn.Linear(9216, 1024),\n",
        "                                 nn.ReLU(),\n",
        "                                 nn.Dropout(0.4),\n",
        "                                 nn.Linear(1024, 2),\n",
        "                                 nn.LogSoftmax(dim=1)).to(DEVICE)\n",
        "AlexNetmodel"
      ],
      "metadata": {
        "colab": {
          "base_uri": "https://localhost:8080/"
        },
        "id": "yWzN0OJ65sil",
        "outputId": "0c09f159-6502-4223-8a38-a13a83bbefc5"
      },
      "execution_count": null,
      "outputs": [
        {
          "output_type": "execute_result",
          "data": {
            "text/plain": [
              "AlexNet(\n",
              "  (features): Sequential(\n",
              "    (0): Conv2d(3, 64, kernel_size=(11, 11), stride=(4, 4), padding=(2, 2))\n",
              "    (1): ReLU(inplace=True)\n",
              "    (2): MaxPool2d(kernel_size=3, stride=2, padding=0, dilation=1, ceil_mode=False)\n",
              "    (3): Conv2d(64, 192, kernel_size=(5, 5), stride=(1, 1), padding=(2, 2))\n",
              "    (4): ReLU(inplace=True)\n",
              "    (5): MaxPool2d(kernel_size=3, stride=2, padding=0, dilation=1, ceil_mode=False)\n",
              "    (6): Conv2d(192, 384, kernel_size=(3, 3), stride=(1, 1), padding=(1, 1))\n",
              "    (7): ReLU(inplace=True)\n",
              "    (8): Conv2d(384, 256, kernel_size=(3, 3), stride=(1, 1), padding=(1, 1))\n",
              "    (9): ReLU(inplace=True)\n",
              "    (10): Conv2d(256, 256, kernel_size=(3, 3), stride=(1, 1), padding=(1, 1))\n",
              "    (11): ReLU(inplace=True)\n",
              "    (12): MaxPool2d(kernel_size=3, stride=2, padding=0, dilation=1, ceil_mode=False)\n",
              "  )\n",
              "  (avgpool): AdaptiveAvgPool2d(output_size=(6, 6))\n",
              "  (classifier): Sequential(\n",
              "    (0): Linear(in_features=9216, out_features=1024, bias=True)\n",
              "    (1): ReLU()\n",
              "    (2): Dropout(p=0.4, inplace=False)\n",
              "    (3): Linear(in_features=1024, out_features=2, bias=True)\n",
              "    (4): LogSoftmax(dim=1)\n",
              "  )\n",
              ")"
            ]
          },
          "metadata": {},
          "execution_count": 48
        }
      ]
    },
    {
      "cell_type": "code",
      "source": [
        "# These are the TRAINABLE parameters:\n",
        "count_parameters(AlexNetmodel)"
      ],
      "metadata": {
        "colab": {
          "base_uri": "https://localhost:8080/"
        },
        "id": "S5Ch-hBc5x4Y",
        "outputId": "3742918a-4267-44b8-dc55-46b6b765f7c8"
      },
      "execution_count": null,
      "outputs": [
        {
          "output_type": "stream",
          "name": "stdout",
          "text": [
            " 9437184\n",
            "    1024\n",
            "    2048\n",
            "       2\n",
            "________\n",
            " 9440258\n"
          ]
        }
      ]
    },
    {
      "cell_type": "markdown",
      "source": [
        "## Define loss function & optimizer\n",
        "We only want to optimize the classifier parameters, as the feature parameters are frozen."
      ],
      "metadata": {
        "id": "kFclCniU5zuN"
      }
    },
    {
      "cell_type": "code",
      "source": [
        "criterion = nn.CrossEntropyLoss()\n",
        "optimizer = torch.optim.Adam(AlexNetmodel.classifier.parameters(), lr=0.001)"
      ],
      "metadata": {
        "id": "Bh8loPHr50DU"
      },
      "execution_count": null,
      "outputs": []
    },
    {
      "cell_type": "markdown",
      "source": [
        "## Train the model\n",
        "Remember, we're only training the fully connected layers. The convolutional layers have fixed weights and biases. For this reason, we only need to run one epoch."
      ],
      "metadata": {
        "id": "EKShdqoq53qc"
      }
    },
    {
      "cell_type": "code",
      "source": [
        "import time\n",
        "start_time = time.time()\n",
        "\n",
        "epochs = 1\n",
        "\n",
        "max_trn_batch = 800\n",
        "max_tst_batch = 300\n",
        "\n",
        "train_losses = []\n",
        "test_losses = []\n",
        "train_correct = []\n",
        "test_correct = []\n",
        "\n",
        "for i in range(epochs):\n",
        "    trn_corr = 0\n",
        "    tst_corr = 0\n",
        "\n",
        "    # Run the training batches\n",
        "    for b, (X_train, y_train) in enumerate(tqdm(train_loader)):\n",
        "        if b == max_trn_batch:\n",
        "            break\n",
        "        b+=1\n",
        "        X_train=X_train.to(DEVICE)\n",
        "        y_train=y_train.to(DEVICE)\n",
        "        # Apply the model\n",
        "        y_pred = AlexNetmodel(X_train)\n",
        "        loss = criterion(y_pred, y_train)\n",
        "\n",
        "        # Tally the number of correct predictions\n",
        "        predicted = torch.max(y_pred.data, 1)[1]\n",
        "        batch_corr = (predicted == y_train).sum()\n",
        "        trn_corr += batch_corr\n",
        "\n",
        "        # Update parameters\n",
        "        optimizer.zero_grad()\n",
        "        loss.backward()\n",
        "        optimizer.step()\n",
        "\n",
        "        # Print interim results\n",
        "        if b%200 == 0:\n",
        "            print(f'epoch: {i:2}  batch: {b:4} [{10*b:6}/8000]  loss: {loss.item():10.8f}  \\\n",
        "accuracy: {trn_corr.item()*100/(10*b):7.3f}%')\n",
        "\n",
        "    train_losses.append(loss.item())\n",
        "    train_correct.append(trn_corr.item())\n",
        "\n",
        "    # Run the testing batches\n",
        "    with torch.no_grad():\n",
        "        for b, (X_test, y_test) in enumerate(tqdm(test_loader)):\n",
        "            X_test, y_test=X_test.to(DEVICE),y_test.to(DEVICE)\n",
        "            if b == max_tst_batch:\n",
        "                break\n",
        "\n",
        "            # Apply the model\n",
        "            y_val = AlexNetmodel(X_test)\n",
        "\n",
        "            # Tally the number of correct predictions\n",
        "            predicted = torch.max(y_val.data, 1)[1]\n",
        "            tst_corr += (predicted == y_test).sum()\n",
        "\n",
        "    loss = criterion(y_val, y_test)\n",
        "    test_losses.append(loss.item())\n",
        "    test_correct.append(tst_corr.item())\n",
        "\n",
        "print(f'\\nDuration: {time.time() - start_time:.0f} seconds') # print the time elapsed"
      ],
      "metadata": {
        "colab": {
          "base_uri": "https://localhost:8080/"
        },
        "id": "rRpigYi7537v",
        "outputId": "72cb2b65-37c1-406d-e03a-152ebd073048"
      },
      "execution_count": null,
      "outputs": [
        {
          "output_type": "stream",
          "name": "stderr",
          "text": [
            " 11%|█         | 200/1875 [01:33<11:47,  2.37it/s]"
          ]
        },
        {
          "output_type": "stream",
          "name": "stdout",
          "text": [
            "epoch:  0  batch:  200 [  2000/8000]  loss: 0.40178317  accuracy:  90.050%\n"
          ]
        },
        {
          "output_type": "stream",
          "name": "stderr",
          "text": [
            " 21%|██▏       | 400/1875 [03:05<13:27,  1.83it/s]"
          ]
        },
        {
          "output_type": "stream",
          "name": "stdout",
          "text": [
            "epoch:  0  batch:  400 [  4000/8000]  loss: 0.01158282  accuracy:  91.225%\n"
          ]
        },
        {
          "output_type": "stream",
          "name": "stderr",
          "text": [
            " 32%|███▏      | 600/1875 [04:37<09:22,  2.27it/s]"
          ]
        },
        {
          "output_type": "stream",
          "name": "stdout",
          "text": [
            "epoch:  0  batch:  600 [  6000/8000]  loss: 0.77661633  accuracy:  91.750%\n"
          ]
        },
        {
          "output_type": "stream",
          "name": "stderr",
          "text": [
            " 43%|████▎     | 800/1875 [06:20<08:30,  2.10it/s]\n"
          ]
        },
        {
          "output_type": "stream",
          "name": "stdout",
          "text": [
            "epoch:  0  batch:  800 [  8000/8000]  loss: 0.01528458  accuracy:  92.400%\n"
          ]
        },
        {
          "output_type": "stream",
          "name": "stderr",
          "text": [
            " 48%|████▊     | 300/626 [01:41<01:50,  2.96it/s]"
          ]
        },
        {
          "output_type": "stream",
          "name": "stdout",
          "text": [
            "\n",
            "Duration: 482 seconds\n"
          ]
        },
        {
          "output_type": "stream",
          "name": "stderr",
          "text": [
            "\n"
          ]
        }
      ]
    },
    {
      "cell_type": "code",
      "source": [
        "print(test_correct)\n",
        "print(f'Test accuracy: {test_correct[-1]*100/3000:.3f}%')"
      ],
      "metadata": {
        "colab": {
          "base_uri": "https://localhost:8080/"
        },
        "id": "Twyhzygq57CK",
        "outputId": "9e5e6b71-cd60-4924-cf7d-96a2af66749f"
      },
      "execution_count": null,
      "outputs": [
        {
          "output_type": "stream",
          "name": "stdout",
          "text": [
            "[2730]\n",
            "Test accuracy: 91.000%\n"
          ]
        }
      ]
    },
    {
      "cell_type": "markdown",
      "source": [
        "## Run a new image through the model\n",
        "We can also pass a single image through the model to obtain a prediction.<br>\n",
        "Pick a number from 0 to 6250, assign it to \"x\", and we'll use that value to select an image from the Cats and Dogs test set."
      ],
      "metadata": {
        "id": "i1S7U44m59Iy"
      }
    },
    {
      "cell_type": "code",
      "source": [
        "x = 2019\n",
        "im = inv_normalize(test_data[x][0])\n",
        "plt.imshow(np.transpose(im.numpy(), (1, 2, 0)));"
      ],
      "metadata": {
        "colab": {
          "base_uri": "https://localhost:8080/",
          "height": 434
        },
        "id": "HuO5fwpQ5_X-",
        "outputId": "bf6892d1-ffb4-45fe-c4fb-3da2b4a9b257"
      },
      "execution_count": null,
      "outputs": [
        {
          "output_type": "display_data",
          "data": {
            "text/plain": [
              "<Figure size 640x480 with 1 Axes>"
            ],
            "image/png": "[encoded data removed]"
          },
          "metadata": {}
        }
      ]
    },
    {
      "cell_type": "code",
      "source": [
        "test_data[x][0].shape"
      ],
      "metadata": {
        "colab": {
          "base_uri": "https://localhost:8080/"
        },
        "id": "_rXJgkun6CGu",
        "outputId": "970ffb70-8349-44be-df62-eaa618121b7b"
      },
      "execution_count": null,
      "outputs": [
        {
          "output_type": "execute_result",
          "data": {
            "text/plain": [
              "torch.Size([3, 224, 224])"
            ]
          },
          "metadata": {},
          "execution_count": 55
        }
      ]
    },
    {
      "cell_type": "code",
      "source": [
        "# CNN Model Prediction:\n",
        "\n",
        "CNNmodel.eval()\n",
        "with torch.no_grad():\n",
        "    new_pred = CNNmodel(test_data[x][0].view(1,3,224,224)).argmax()\n",
        "print(f'Predicted value: {new_pred.item()} {class_names[new_pred.item()]}')"
      ],
      "metadata": {
        "colab": {
          "base_uri": "https://localhost:8080/"
        },
        "id": "ep2ug6_a6DXJ",
        "outputId": "0fcf8a85-a63d-49a8-ad87-977c95a6d60d"
      },
      "execution_count": null,
      "outputs": [
        {
          "output_type": "stream",
          "name": "stdout",
          "text": [
            "Predicted value: 0 CAT\n"
          ]
        }
      ]
    },
    {
      "cell_type": "code",
      "source": [
        "# AlexNet Model Prediction:\n",
        "\n",
        "AlexNetmodel.eval()\n",
        "with torch.no_grad():\n",
        "    new_pred = AlexNetmodel(test_data[x][0].view(1,3,224,224)).argmax()\n",
        "print(f'Predicted value: {new_pred.item()} {class_names[new_pred.item()]}')"
      ],
      "metadata": {
        "colab": {
          "base_uri": "https://localhost:8080/"
        },
        "id": "94ebU9qE6Fod",
        "outputId": "d5e17403-8abc-4508-d530-4ca9943caaca"
      },
      "execution_count": null,
      "outputs": [
        {
          "output_type": "stream",
          "name": "stdout",
          "text": [
            "Predicted value: 0 CAT\n"
          ]
        }
      ]
    }
  ],
  "metadata": {
    "colab": {
      "provenance": []
    },
    "kernelspec": {
      "display_name": "Python 3 (ipykernel)",
      "language": "python",
      "name": "python3"
    },
    "language_info": {
      "codemirror_mode": {
        "name": "ipython",
        "version": 3
      },
      "file_extension": ".py",
      "mimetype": "text/x-python",
      "name": "python",
      "nbconvert_exporter": "python",
      "pygments_lexer": "ipython3",
      "version": "3.9.7"
    }
  },
  "nbformat": 4,
  "nbformat_minor": 0
}